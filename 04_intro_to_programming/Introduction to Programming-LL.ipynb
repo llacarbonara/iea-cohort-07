{
 "cells": [
  {
   "cell_type": "markdown",
   "metadata": {
    "slideshow": {
     "slide_type": "slide"
    }
   },
   "source": [
    "# Introduction to Programming\n",
    "# ...Using Python\n",
    "### JR Rickerson\n",
    "### (jrrickerson@redrivetstudios.com)\n"
   ]
  },
  {
   "cell_type": "markdown",
   "metadata": {},
   "source": [
    "## Agenda\n",
    "    - Quick Refresher on git / Github\n",
    "    - Intro to Programming with Python"
   ]
  },
  {
   "cell_type": "markdown",
   "metadata": {
    "slideshow": {
     "slide_type": "subslide"
    }
   },
   "source": [
    "# About This Course\n",
    "* This course is obviously not going to teach the same content as that of a Computer Science curriculum, but...\n",
    " * You'll learn how to write code, i.e., how to turn a __problem statement__ into code which will _solve_ that problem"
   ]
  },
  {
   "cell_type": "markdown",
   "metadata": {
    "slideshow": {
     "slide_type": "subslide"
    }
   },
   "source": [
    "* At its essence, that is ALL coding is about–converting a problem into code which solves that problem\n",
    "* It is _not_ easy–it will be challenging!\n",
    "* It will require a change in thinking!\n",
    "* ...and it will be fun!\n"
   ]
  },
  {
   "cell_type": "markdown",
   "metadata": {
    "slideshow": {
     "slide_type": "subslide"
    }
   },
   "source": [
    "# Now pull this notebook, so you can follow along...\n",
    "* Open a terminal window\n",
    "* Change directories to your class materials\n",
    "* Pull from the upstream remote\n",
    "* Start the notebook with `jupyter notebook` as before"
   ]
  },
  {
   "cell_type": "markdown",
   "metadata": {},
   "source": [
    "## Git - Adding an upstream remote\n",
    "### Why?\n",
    "* We have an original repository we created a fork from\n",
    "* We have made changes to our fork\n",
    "* Other contributors have also made changes to the original\n",
    "\n",
    "### How?\n",
    "`git checkout master` (make sure we're on master)  \n",
    "`git remote add upstream https://<repo url>`  \n",
    "`git pull upstream master`  "
   ]
  },
  {
   "cell_type": "code",
   "execution_count": null,
   "metadata": {
    "scrolled": true
   },
   "outputs": [],
   "source": [
    "!git remote -v"
   ]
  },
  {
   "cell_type": "markdown",
   "metadata": {
    "slideshow": {
     "slide_type": "subslide"
    }
   },
   "source": [
    "## Launching Jupyter\n",
    "\n",
    "* On a Mac:\n",
    "  * In __Terminal__, type  \n",
    "  __`jupyter notebook`__  \n",
    "   \n",
    "   \n",
    "* On Windows:\n",
    "  * In the __cmd__ window, type  \n",
    "  __`jupyter notebook`__\n",
    "\n",
    "\n",
    "* Navigate to the new directory you pulled with git, and click on __`Introduction to Programming.ipynb`__"
   ]
  },
  {
   "cell_type": "markdown",
   "metadata": {
    "collapsed": true,
    "slideshow": {
     "slide_type": "subslide"
    }
   },
   "source": [
    "# How to get around on Jupyter:\n",
    "* Each place for you to enter text is called a _cell_\n",
    "* Usually you enter __`Python`__ code, but you can also enter text in a _markup_ language called __`Markdown`__ (that's what's going on in _this_ cell)\n",
    "* To \"run\" the code in the cell, hit __Shift-Return__ (i.e., hold down __Shift__ key, then hit __Return__)\n",
    "* Try it with the cell below..."
   ]
  },
  {
   "cell_type": "code",
   "execution_count": null,
   "metadata": {},
   "outputs": [],
   "source": [
    "x = 4\n",
    "print(x)"
   ]
  },
  {
   "cell_type": "markdown",
   "metadata": {
    "slideshow": {
     "slide_type": "subslide"
    }
   },
   "source": [
    "* we'll work inside the Jupyter notebook and you'll be able to take it with you as a living, breathing document of your work in this class\n",
    "* the __Insert__ menu will allow you to add a cell above or below the current cell\n",
    "* the __Kernel__ menu will allow you to \"talk\" to the Python interpreter on your machine\n",
    "  * (when you type into a cell, you are \"talking\" to the web browser, and the web browser sends the text to the __`Python`__ interpreter to be \"run\")\n",
    "  * the __Kernel__ menu will allow you to _restart_ your __`Python`__ interpreter in case something goes wrong and it stops responding to you\n",
    "  "
   ]
  },
  {
   "cell_type": "markdown",
   "metadata": {
    "slideshow": {
     "slide_type": "slide"
    }
   },
   "source": [
    "# Basics of Computer Architecture"
   ]
  },
  {
   "cell_type": "markdown",
   "metadata": {
    "slideshow": {
     "slide_type": "subslide"
    }
   },
   "source": [
    "## Bits, Bytes, and Binary\n",
    "* a _bit_ (\"binary digit\") is the basic unit of information in computing (and digital communications)\n",
    "* a bit can have only one of two values, 0 or 1\n",
    "* the two values can also be interpreted as logical values (true/false, yes/no), etc.\n",
    "* a _byte_ is 8 bits, which you can think of a single character on the US keyboard\n",
    "![alt text](images/byte.png)\n",
    "\n"
   ]
  },
  {
   "cell_type": "markdown",
   "metadata": {
    "slideshow": {
     "slide_type": "subslide"
    }
   },
   "source": [
    "## Basics of Computer Architecture\n",
    "* in simplest terms, a computer consists of a __CPU__ (Central Processing Unit, or \"brain\") and memory\n",
    "* the job of the CPU is to _execute_ (or \"run\") instructions (or \"code\")\n",
    "* there are two types of instructions:\n",
    "  * those that transfer data from memory to the CPU (_load_) or vice versa (_store_)\n",
    "  * those that operate on data stored in the CPU (e.g., arithmetic operations such as addition or subtraction, or branching)\n",
    "* the CPU has a _clock speed_, which is the speed at which the CPU's internal clock _pulses_, i.e., the speed at which the CPU can do work\n",
    "  * e.g., 2.9 GHz (Gigahertz) = 2.9 billion cycles per second\n",
    "  * think of the clock speed as a drumbeat which signals when the next instruction can execute\n"
   ]
  },
  {
   "cell_type": "markdown",
   "metadata": {
    "collapsed": true,
    "slideshow": {
     "slide_type": "subslide"
    }
   },
   "source": [
    "## Block Diagram of a Simple CPU\n",
    "\n",
    "![alt text](images/block.png)\n",
    "* the ALU (arithmetic logic unit) handles operations on integers (whole numbers)\n",
    "* the FPU (floating point unit or \"math coprocessor\") handles operations on floating point (fractional) numbers\n",
    "* registers are memory \"slots\" in the CPU which hold data that the ALU or FPU manipulates"
   ]
  },
  {
   "cell_type": "markdown",
   "metadata": {
    "collapsed": true,
    "slideshow": {
     "slide_type": "subslide"
    }
   },
   "source": [
    "## Types of Computer Memory\n",
    "\n",
    "![alt text](images/computer-memory-pyramid.gif)\n",
    "\n",
    "* RAM = Random Access Memory\n",
    "  * \"short term\" memory\n",
    "  * stuff is stored in RAM while power is applied (i.e., computer is on)\n",
    "* secondary storage - hard drives, USB drives, flash drives, etc.\n",
    "  * \"long term\" memory\n",
    "  * data persists even when power is off\n",
    "* virtual memory\n",
    "  * a software trick which enables the computer to seem like it has more memory than it actually has\n",
    "  * unused blocks of memory are moved to the hard drive or other secondary storage device\n",
    "* cache\n",
    "  * super-fast memory inside the CPU used to keep data close by so the CPU doesn't have to continually move data in and out (cf. a web browser cache which holds images so that the next time you visit a website the browser doesn't have to download the image from the site, it can just grab it from the cache)"
   ]
  },
  {
   "cell_type": "markdown",
   "metadata": {
    "collapsed": true,
    "slideshow": {
     "slide_type": "subslide"
    }
   },
   "source": [
    "## How an Application is Run\n",
    "* The application (e.g., Microsoft Word) is stored on your hard drive or other secondary storage\n",
    "* When you double click on an application, the operating system (OS X, Windows, etc.) loads the application (or a portion of it) into RAM (details are OS-specific and not important for our discussion)\n"
   ]
  },
  {
   "cell_type": "markdown",
   "metadata": {
    "slideshow": {
     "slide_type": "subslide"
    }
   },
   "source": [
    "* An executable application such as Microsoft Word is a series of _instructions_ in a language that the CPU can understand (\"assembly language\" or \"machine language\")\n",
    "* The instructions are decoded and executed by the CPU\n",
    "* Note that modern computers (such as our laptops) have CPUs which are multi-core\n",
    "  * This means that the CPU itself has 2 or more _cores_, or processing units\n",
    "  * In other words, if your laptop has a dual-core CPU, it can run 2 things at once\n",
    "  * Of course, we are used to \"running\" many more applications simultaneously (e.g., web browser, mail client, Word, iTunes, etc.) but that is just an illusion–the operating system is _multi-tasking_ by running each \"runnable\" _process_ for a little while and then switching to the next one\n",
    "  * It does this fast enough that it appears that they are running simultaneously"
   ]
  },
  {
   "cell_type": "markdown",
   "metadata": {
    "slideshow": {
     "slide_type": "slide"
    }
   },
   "source": [
    "# What is Computer Programming?"
   ]
  },
  {
   "cell_type": "markdown",
   "metadata": {
    "slideshow": {
     "slide_type": "subslide"
    }
   },
   "source": [
    "## What is Computer Programming?\n",
    "* _Programming_ (or \"coding\") is a process that begins with the formulation of a (computing) problem and ends with the creation of an executable computer program\n",
    "* A (computer) _program_ is a set of statements or instructions that tells the computer what to do\n",
    "* In order to write a program, programmers often begin with an algorithm...\n",
    "\n"
   ]
  },
  {
   "cell_type": "markdown",
   "metadata": {
    "slideshow": {
     "slide_type": "subslide"
    }
   },
   "source": [
    "## What's an Algorithm?\n",
    "* An _algorithm_ is a process or set of rules to be followed in calculations or other problem-solving operations (usually, but not always by a computer)\n",
    "* For example, an algorithm for converting Fahrenheit temperatures into Celsius looks like this:\n",
    "  1. Subtract 32 from the Fahrenheit temperature\n",
    "  2. Multiply the result by 5/9\n",
    "* An algorithm for washing your hair...\n",
    "  1. Lather\n",
    "  2. Rinse\n",
    "  3. Repeat\n",
    "* An algorithm for getting a ping-pong ball out of a deep hole with a small diameter...\n",
    "  1. Fill the hole with water\n",
    "* In other words, an algorithm is like a recipe, listing each of the steps required to solve the problem"
   ]
  },
  {
   "cell_type": "markdown",
   "metadata": {
    "slideshow": {
     "slide_type": "subslide"
    }
   },
   "source": [
    "## What's Pseudocode?\n",
    "* a notation resembling a simplified programming language, often like a mixture of English and programming language constructs\n",
    "* often used to write down an algorithm in order to translate it into code\n",
    "* we will write pseudocode before we write our programs"
   ]
  },
  {
   "cell_type": "markdown",
   "metadata": {
    "slideshow": {
     "slide_type": "subslide"
    }
   },
   "source": [
    "## Debugging\n",
    "* the process of finding and fixing errors (typically called \"bugs\")\n",
    "* popularized by Grace Hopper, Ph.D., a Navy rear admiral and one of the first computer programmers\n",
    "* posthumously awarded the Presidential Medal of Freedom in 2016\n",
    "* https://en.wikipedia.org/wiki/Grace_Hopper\n"
   ]
  },
  {
   "cell_type": "markdown",
   "metadata": {
    "slideshow": {
     "slide_type": "subslide"
    }
   },
   "source": [
    "![alt text](images/H96566k.jpg)"
   ]
  },
  {
   "cell_type": "markdown",
   "metadata": {
    "slideshow": {
     "slide_type": "subslide"
    }
   },
   "source": [
    "## How Do Computers Understand Programming Languages?\n",
    "* the short answer is–\"they don't\"\n",
    "* programs we write in just about every programming language are either\n",
    "  * __translated__ into _machine language_ (the numeric equivalent of assembly language) or an intermediate language called _bytecode_\n",
    "    * this process is called _compilation_\n",
    "    * the tool which performs the compilation is called a _compiler_\n",
    "    * the language is referred to as a _compiled language_ (e.g., C/C++, Fortran)\n",
    "    * we can see the compilation process in action at http://godbolt.org/\n",
    "  * __interpreted__ by a program called an _interpreter_\n",
    "    * __`bash`__, which you may be familiar with, is an interpreted language\n",
    "  * __transpiled__ into another language (and then compiled or interpreted)\n",
    "    * e.g., CoffeeScript => JavaScript (and others), Eiffel => C++\n",
    "  \n"
   ]
  },
  {
   "cell_type": "markdown",
   "metadata": {
    "collapsed": true,
    "slideshow": {
     "slide_type": "subslide"
    }
   },
   "source": [
    "## Is Python a Compiled or Interpreted Language?\n",
    "* short answer–\"It's both!\"\n",
    "* __`Python`__ is first compiled into an \"intermediate\" language called _bytecode_\n",
    "* then the bytecode is interpreted by the __`Python`__ Virtual Machine (VM)\n",
    "* __`Java`__ works in a similar way in that it is first compiled into bytecode (a different bytecode than what __`Python`__ uses) and then interpreted by the __`Java`__ VM\n",
    "* this is a bit of an oversimplification, but we are not trying to be compiler/programming language experts"
   ]
  },
  {
   "cell_type": "markdown",
   "metadata": {
    "slideshow": {
     "slide_type": "subslide"
    }
   },
   "source": [
    "## Source Code vs. Object Code\n",
    "* _source code_ is collection of computer instructions written using a human-readable programming language\n",
    "  * source code may (and should) include _comments_\n",
    "  * source is plain text\n",
    "  * humans write source code\n",
    "* _object code_ consists of machine-readable instructions\n",
    "  * it's the output of a compiler, i.e., it's the compiled version of source code\n",
    "  * therefore, computers write object code\n",
    "  * files of object code (\"object files\") can be linked together to create executables (applications)\n",
    "  * on Linux and Linux-like systems, you will find files whose names end in __`.so`__–these are _shared object_ or \"library\" files"
   ]
  },
  {
   "cell_type": "markdown",
   "metadata": {
    "slideshow": {
     "slide_type": "subslide"
    }
   },
   "source": [
    "## Syntax Errors\n",
    "* __syntax__ = the set of rules that defines the combinations of symbols that are considered to be a correctly-written (valid) program\n",
    "* a __syntax error__ is an error in syntax, i.e., a violation of the rules that define a valid program\n",
    "* syntax in programming is more like grammar in English\n",
    "  * The dog chases the cat\n",
    "  * The dogs chases the cat (_syntax error–subject/verb agreement_)\n",
    "* syntax errors are caught by the compiler or interpreter\n",
    "  * sometimes called __compile time__ errors\n",
    "    * remember that in a compiled language, compilation is a completely independent step from running the program\n",
    "  * a program can only run if it's __syntactically correct__"
   ]
  },
  {
   "cell_type": "markdown",
   "metadata": {
    "slideshow": {
     "slide_type": "subslide"
    }
   },
   "source": [
    "## Runtime Errors\n",
    "* as the name suggests, these are errors that occur when you run the program, as opposed to when you compile the program\n",
    "* with an interpreted language such as Python, the distinction between syntax and runtime errors is not as obvious–in both cases the interpreter will stop interpreting your code and will report an error\n",
    "* runtime errors are often called __exceptions__"
   ]
  },
  {
   "cell_type": "markdown",
   "metadata": {
    "slideshow": {
     "slide_type": "subslide"
    }
   },
   "source": [
    "## Semantic Errors\n",
    "* a __semantic error__ occurs when your program is syntactically correct, but you told the computer to do the wrong thing\n",
    "* for example, if you wrote a program to convert Fahrenheit to Celsius and you added 32 to the temperature instead of subtracting\n",
    "  * the program will run, but it will give you the wrong result\n",
    "  * remember that the computer will do what you tell it to do, but that doesn't mean it's what you want it to do! \n",
    "* a semantic error _may_ cause a runtime error, but usually they don't, and they can be difficult to debug"
   ]
  },
  {
   "cell_type": "markdown",
   "metadata": {
    "collapsed": true,
    "slideshow": {
     "slide_type": "slide"
    }
   },
   "source": [
    "# Introducing Python"
   ]
  },
  {
   "cell_type": "markdown",
   "metadata": {
    "slideshow": {
     "slide_type": "subslide"
    }
   },
   "source": [
    "## Introducing Python\n",
    "* Python is a _high-level_ language, meaning it is\n",
    "  * easy to get started with\n",
    "  * fun to use"
   ]
  },
  {
   "cell_type": "markdown",
   "metadata": {
    "slideshow": {
     "slide_type": "subslide"
    }
   },
   "source": [
    "* there are two ways to use Python: interactive (or \"command line\") mode, and script (or program) mode\n",
    "* we'll start in interactive mode\n",
    "* type the following into the next cell of this notebook, then hit __`SHIFT-RETURN`__ to send the text to Python\n",
    "\n",
    "   __`2 + 2`__"
   ]
  },
  {
   "cell_type": "code",
   "execution_count": null,
   "metadata": {},
   "outputs": [],
   "source": [
    "2 + 2"
   ]
  },
  {
   "cell_type": "markdown",
   "metadata": {
    "slideshow": {
     "slide_type": "subslide"
    }
   },
   "source": [
    "## Let's try a few other calculations using Python..."
   ]
  },
  {
   "cell_type": "code",
   "execution_count": null,
   "metadata": {},
   "outputs": [],
   "source": [
    "# the '#' symbol precedes a comment...\n",
    "# ...which is text that Python ignores\n",
    "# so let's convert Fahrenheit to Celsius...\n",
    "(212 - 32) * 5 / 9"
   ]
  },
  {
   "cell_type": "code",
   "execution_count": null,
   "metadata": {},
   "outputs": [],
   "source": [
    "# roughly the number of atoms in the universe\n",
    "10 ** 78"
   ]
  },
  {
   "cell_type": "code",
   "execution_count": null,
   "metadata": {},
   "outputs": [],
   "source": [
    "4 / 3"
   ]
  },
  {
   "cell_type": "code",
   "execution_count": null,
   "metadata": {},
   "outputs": [],
   "source": [
    "# // is integer division (technically it's \"floor division\", but we can\n",
    "# ignore the difference for now)\n",
    "4 // 3"
   ]
  },
  {
   "cell_type": "markdown",
   "metadata": {
    "slideshow": {
     "slide_type": "subslide"
    }
   },
   "source": [
    "## Writing Our First Program\n",
    "* when learning a new programming language, it's customary to write a _hello world_ program, that is, a program which simply prints out \"Hello, world!\"\n",
    "* type the following into the next cell and then hit __`SHIFT-RETURN`__\n",
    "\n",
    "    __`print('Hello, world!')`__"
   ]
  },
  {
   "cell_type": "code",
   "execution_count": null,
   "metadata": {
    "scrolled": true
   },
   "outputs": [],
   "source": [
    "print('Hello, world!')"
   ]
  },
  {
   "cell_type": "markdown",
   "metadata": {
    "slideshow": {
     "slide_type": "subslide"
    }
   },
   "source": [
    "## Analzying our First Program\n",
    "* We used Python's builtin __`print`__ _function_ to print text to the screen\n",
    "* OK...so what's a function?"
   ]
  },
  {
   "cell_type": "markdown",
   "metadata": {
    "slideshow": {
     "slide_type": "subslide"
    }
   },
   "source": [
    "## What is a Function?\n",
    "* a function is a named sequence of program statements that perform a specific task (in this case, the task was outputting to the screen)\n",
    "* a function can be used in a program wherever that particular task is needed\n",
    "* we can create our own functions, or we can rely on builtin functions as above"
   ]
  },
  {
   "cell_type": "markdown",
   "metadata": {
    "slideshow": {
     "slide_type": "subslide"
    }
   },
   "source": [
    "## What is a Function? (cont'd)\n",
    "* when you call or _invoke_ a function, you write its name, followed by the data you wish to send into the function (often called _arguments_) in parentheses...\n",
    "* if you wish to send no data to the function, you still include the parentheses\n",
    "  * e.g., __`print()`__ will print a blank line\n",
    "  * ... vs. __`print('Hello, world!')`__ as we did in our first program"
   ]
  },
  {
   "cell_type": "markdown",
   "metadata": {
    "slideshow": {
     "slide_type": "slide"
    }
   },
   "source": [
    "\n",
    "## Data, Variables, and Expressions\n",
    "* computer programs typically manipulate _data_ (or values), which can be numbers, names, or any text (and other things we can ignore for now)\n",
    "* it's useful to think of programs as taking some input and producing some output\n",
    "  * the data (or values) are provided as input to the program, and some other data are produced as output\n",
    "* _variables_ can be thought of as a \"named box\" (e.g., __`r`__, __`name`__, or __`year`__) inside the computer that holds a value\n",
    "  * the value could be a number, a name, or something else\n",
    "* an _expression_ is a combination of one or more values, variables, and operators (__`+`__, __`-`__, etc.), e.g.,\n",
    "  * __`(temp - 32) * 5 / 9`__\n",
    "  * __`3.14159 * r ** 2`__\n",
    "  * __`2 + 2`__\n",
    "  * __`1`__\n",
    " \n",
    "\n"
   ]
  },
  {
   "cell_type": "code",
   "execution_count": null,
   "metadata": {},
   "outputs": [],
   "source": [
    "temp = 54\n",
    "(temp - 32) * 5 / 9"
   ]
  },
  {
   "cell_type": "markdown",
   "metadata": {
    "slideshow": {
     "slide_type": "subslide"
    }
   },
   "source": [
    "## Values and Simple Data Types (`int`, `float`, and `str`)\n",
    "* _integers_ are whole numbers which have no fractional part\n",
    "  * e.g., __`42`__, __`-1`__, __`2017`__\n",
    "* _floats_ (short for \"floating point\") are numbers which have a decimal point and possibly  digits after the decimal point\n",
    "  * e.g, __`3.1415`__, __`212.`__, __`-1.5`__\n",
    "* _strings_ are sequences of characters surrounded by quotes\n",
    "  * e.g., __`'Hello, world!'`__\n",
    "* we can ask the Python interpreter to tell us the type of a value by using the builtin __`type`__ function"
   ]
  },
  {
   "cell_type": "code",
   "execution_count": null,
   "metadata": {},
   "outputs": [],
   "source": [
    "type(42.)"
   ]
  },
  {
   "cell_type": "code",
   "execution_count": null,
   "metadata": {},
   "outputs": [],
   "source": [
    "# Lines that begin with a '#' are comments.\n",
    "# They are for humans, and are ignored by the interpreter.\n",
    "#\n",
    "# Note that you can chain values together with a\n",
    "# comma, and the result will be a is a comma-\n",
    "# separated list of results in parentheses\n",
    "\n",
    "type(-1), type(212.), type('hello')"
   ]
  },
  {
   "cell_type": "code",
   "execution_count": null,
   "metadata": {},
   "outputs": [],
   "source": [
    "temp"
   ]
  },
  {
   "cell_type": "markdown",
   "metadata": {
    "slideshow": {
     "slide_type": "subslide"
    }
   },
   "source": [
    "# Lab: The Builtin Function __`type()`__\n",
    "* use Python's __`type()`__ function to find out the type of the following values and expressions\n",
    "  * __`35 + 5`__\n",
    "  * __`35.0 + 5`__\n",
    "  * __`'35' + '5'`__\n",
    "  * __`5 // 3`__\n",
    "  * __`3.5.5`__\n",
    "* __Note:__ you can add more cells to the notebook in the Insert menu"
   ]
  },
  {
   "cell_type": "code",
   "execution_count": null,
   "metadata": {},
   "outputs": [],
   "source": [
    "calculations=[35 + 5,35.0 + 5,'35' + '5',5 // 3,'3.5.5']\n",
    "for x in calculations:\n",
    "    print(type(x).__name__)"
   ]
  },
  {
   "cell_type": "code",
   "execution_count": null,
   "metadata": {
    "scrolled": true
   },
   "outputs": [],
   "source": [
    "try:\n",
    "    type(3.5.5)\n",
    "except SyntaxError:\n",
    "    print('error')"
   ]
  },
  {
   "cell_type": "code",
   "execution_count": null,
   "metadata": {
    "scrolled": true
   },
   "outputs": [],
   "source": [
    "x=(3.5.5)\n",
    "type(x)"
   ]
  },
  {
   "cell_type": "code",
   "execution_count": null,
   "metadata": {},
   "outputs": [],
   "source": [
    "print(type(35 + 5).__name__)\n",
    "print(type(35.0 + 5).__name__)\n",
    "print(type('35' + '5').__name__)\n",
    "print(type(5 // 3).__name__)\n",
    "type('3.5.5')"
   ]
  },
  {
   "cell_type": "markdown",
   "metadata": {
    "slideshow": {
     "slide_type": "subslide"
    }
   },
   "source": [
    "## Variables\n",
    "* variables are named locations inside the computer's memory (again, think of these as named boxes into which you can put values)\n",
    "* we can put a value into a variable by using an _assignment statement_, e.g.,\n",
    "  * __`x = 1`__\n",
    "  * __`name = 'Grace Hopper'`__\n",
    "* an assignment is not a statement of equality (as we are used to from mathematics)–it's a directive to Python to put whatever is on the right-hand side of the __`=`__ into the variable on the left hand side\n",
    "* we can ask Python to print the value of a variable by simply typing it into the interpreter, or by using the built-in __`print`__ function"
   ]
  },
  {
   "cell_type": "code",
   "execution_count": null,
   "metadata": {},
   "outputs": [],
   "source": [
    "x = 1906\n",
    "x"
   ]
  },
  {
   "cell_type": "code",
   "execution_count": null,
   "metadata": {},
   "outputs": [],
   "source": [
    "name = 'Grace Hopper'\n",
    "name"
   ]
  },
  {
   "cell_type": "code",
   "execution_count": null,
   "metadata": {},
   "outputs": [],
   "source": [
    "# notice that when printing a string, the quotes are omitted\n",
    "print(name, 'birth year =', x)"
   ]
  },
  {
   "cell_type": "code",
   "execution_count": null,
   "metadata": {},
   "outputs": [],
   "source": [
    "print(name)"
   ]
  },
  {
   "cell_type": "markdown",
   "metadata": {
    "slideshow": {
     "slide_type": "subslide"
    }
   },
   "source": [
    "## Lab: Variables\n",
    "* create a variable named __quantity__ and give it an integer value\n",
    "* verify that __quantity__ has the value you gave it\n",
    "* verify that __quantity__ is an integer\n",
    "* create a variable named __company__ and give it a value of 'mycompany'\n",
    "* verify that __company__ is a string and that its value is 'mycompany'"
   ]
  },
  {
   "cell_type": "code",
   "execution_count": null,
   "metadata": {},
   "outputs": [],
   "source": [
    "quantity = 7\n",
    "print(quantity)\n",
    "print(type(quantity).__name__)\n",
    "company = 'mycompany'\n",
    "print(company)\n",
    "print(type(company).__name__)"
   ]
  },
  {
   "cell_type": "markdown",
   "metadata": {
    "slideshow": {
     "slide_type": "subslide"
    }
   },
   "source": [
    "## Variables (continued)\n",
    "* by the way, you may have heard (or may already know) that variables are not implemented as \"named boxes\" in Python\n",
    "  * TRUE–but for now, let's think of them that way–it's a perfectly fine abstraction and there's no reason to discard it\n",
    "* Python is called a _dynamically typed_ language because you do not _declare_ variables before you use them\n",
    "* in addition, a variable can hold a value of _any_ type, even if that type is not what the variable previously held, e.g.,"
   ]
  },
  {
   "cell_type": "code",
   "execution_count": null,
   "metadata": {},
   "outputs": [],
   "source": [
    "x = 1\n",
    "y = 2\n",
    "x = 'jello'\n",
    "print(x)"
   ]
  },
  {
   "cell_type": "markdown",
   "metadata": {},
   "source": [
    "* in a _statically typed_ language (e.g., C/C++, Java), you must declare variables before using them (and in doing so you must indicate the type of data the variable will hold–__`int`__, __`float`__, etc.)\n",
    "  * ...and the only values that variable may contain are values of the declared type\n",
    "* we have no such restrictions in Python, which is both good and bad:\n",
    "  * it's good because we can just start using a variable and not have to worry about declaring it ahead of time\n",
    "  * it's bad because in a large program it can be difficult to track the type of variables, and if you accidentally overwrite a variable with a value of the wrong type, there is no way Python can complain about it–only you know what type of value is supposed to be stored in a variable\n",
    "\n"
   ]
  },
  {
   "cell_type": "markdown",
   "metadata": {
    "slideshow": {
     "slide_type": "subslide"
    }
   },
   "source": [
    "## Getting Input from the User\n",
    "* the builtin function __`input()`__ enables us to prompt the user for input\n",
    "* ...and whatever the user typed is returned by the function\n",
    "* let's try it in the next cell"
   ]
  },
  {
   "cell_type": "code",
   "execution_count": null,
   "metadata": {},
   "outputs": [],
   "source": [
    "name = input('Enter your name: ')\n",
    "print('Hello', name)"
   ]
  },
  {
   "cell_type": "markdown",
   "metadata": {
    "slideshow": {
     "slide_type": "subslide"
    }
   },
   "source": [
    "## Lab: Input\n",
    "* write Python code to prompt the user for a year and print out the year the user entered\n",
    "* your output will look something like this:\n",
    "\n",
    "<pre>\n",
    "<b>\n",
    "Enter a year: 2017\n",
    "You entered 2017\n",
    "</b>\n",
    "</pre>"
   ]
  },
  {
   "cell_type": "code",
   "execution_count": null,
   "metadata": {},
   "outputs": [],
   "source": [
    "year = input('Enter Year: ')\n",
    "print('The Year entered is:',year)"
   ]
  },
  {
   "cell_type": "code",
   "execution_count": null,
   "metadata": {},
   "outputs": [],
   "source": [
    "year=print('The Year entered is:',input('Enter Year:'))\n",
    "print(year)"
   ]
  },
  {
   "cell_type": "code",
   "execution_count": null,
   "metadata": {},
   "outputs": [],
   "source": [
    "year_int=int(input('enter year: '))\n",
    "print(\"Year is\",print(str(year_int))"
   ]
  },
  {
   "cell_type": "markdown",
   "metadata": {
    "slideshow": {
     "slide_type": "subslide"
    }
   },
   "source": [
    "## Variable Names and Keywords\n",
    "* variable names can be arbitrarily long\n",
    "* they can contain both letters and numbers, but they must begin with a letter\n",
    "* uppercase letters are allowed, but by convention we don’t use them (if you do use uppercase letters, remember that Python is _case sensitive_–in other words __`counter`__ and __`Counter`__ are different variables)\n",
    "* you should choose meaningful names for your variables:\n",
    "  * __`counter`__ instead of __`c`__\n",
    "  * __`cost_per_ounce`__ instead of __`cpo`__\n",
    "  * etc.\n",
    "* as you can see above, variable names can include underscores–use them to make your variable names clearer\n",
    "  * for now, do not start a variable name with an underscore"
   ]
  },
  {
   "cell_type": "code",
   "execution_count": null,
   "metadata": {},
   "outputs": [],
   "source": [
    "# what is the problem here?\n",
    "year = 2017\n",
    "to = 'Mary'\n",
    "from = 'Dave'"
   ]
  },
  {
   "cell_type": "markdown",
   "metadata": {},
   "source": [
    "* the problem above is that __`from`__ is a _keyword_\n",
    "* _keywords_ are words that are part of Python (or other programming languages) and cannot be used as variable names\n",
    "* if you ever get a weird error like 'invalid syntax' when it looks syntactically correct, the problem is likely that you are trying to use a keyword as a variable\n",
    "* we can get a current list of the keywords...\n"
   ]
  },
  {
   "cell_type": "code",
   "execution_count": null,
   "metadata": {},
   "outputs": [],
   "source": [
    "# We will explore this 'import' syntax later.\n",
    "# For now, just think of it as a way to use some \"library\" code which comes with Python,\n",
    "# but isn't built in, so we need to import it.\n",
    "\n",
    "import keyword\n",
    "print(keyword.kwlist)"
   ]
  },
  {
   "cell_type": "markdown",
   "metadata": {},
   "source": [
    "* Or, we can look them up in the docs:  https://docs.python.org/3/reference/lexical_analysis.html#keywords\n",
    "* But don't forget, more may be added in newer Python versions!"
   ]
  },
  {
   "cell_type": "markdown",
   "metadata": {
    "slideshow": {
     "slide_type": "subslide"
    }
   },
   "source": [
    "## Evaluating Expressions\n",
    "* recall that an expression is a combination of values, variables, and operators (but doesn't have to contain all of these elements)\n",
    "* if you type an expression on the command line, the interpreter evaluates it and displays the result"
   ]
  },
  {
   "cell_type": "code",
   "execution_count": null,
   "metadata": {},
   "outputs": [],
   "source": [
    "2 + 2"
   ]
  },
  {
   "cell_type": "markdown",
   "metadata": {},
   "source": [
    "* note that a value all by itself is considered an expression, as is a variable by itself"
   ]
  },
  {
   "cell_type": "code",
   "execution_count": null,
   "metadata": {},
   "outputs": [],
   "source": [
    "13"
   ]
  },
  {
   "cell_type": "code",
   "execution_count": null,
   "metadata": {},
   "outputs": [],
   "source": [
    "name"
   ]
  },
  {
   "cell_type": "markdown",
   "metadata": {
    "slideshow": {
     "slide_type": "subslide"
    }
   },
   "source": [
    "* one point of confusion concerns the difference between _evaluating an expression_ and _printing a value_\n",
    "* evaluating an expression does not print anything if \n",
    "  * you're in _program_ mode\n",
    "  * or you are assigning the value of the expression to a variable"
   ]
  },
  {
   "cell_type": "code",
   "execution_count": null,
   "metadata": {},
   "outputs": [],
   "source": [
    "# Python doesn't print anything when you \n",
    "# assign a value to a variable\n",
    "something = 'nothing'"
   ]
  },
  {
   "cell_type": "code",
   "execution_count": null,
   "metadata": {},
   "outputs": [],
   "source": [
    "something"
   ]
  },
  {
   "cell_type": "markdown",
   "metadata": {
    "slideshow": {
     "slide_type": "subslide"
    }
   },
   "source": [
    "* when the interpreter displays the value of an expression, it uses the same format you would use to enter its value–so in the case of strings, that means that it includes the quotes\n",
    "* but when you call the __`print()`__ function, Python displays the contents of the string without the quotes..."
   ]
  },
  {
   "cell_type": "code",
   "execution_count": null,
   "metadata": {},
   "outputs": [],
   "source": [
    "print(something)"
   ]
  },
  {
   "cell_type": "markdown",
   "metadata": {
    "slideshow": {
     "slide_type": "subslide"
    }
   },
   "source": [
    "## So Why Are There Two Ways to Produce Output?\n",
    "* simply typing a variable name or an expression is a convenient way to see its value, and it's something we can always do at the Python interactive prompt\n",
    "* inside a program, however, we use the __`print()`__ function to produce output"
   ]
  },
  {
   "cell_type": "markdown",
   "metadata": {
    "slideshow": {
     "slide_type": "subslide"
    }
   },
   "source": [
    "## Operators and Operands\n",
    "* operators are special symbols that represent computations such as addition (__`+`__) and multiplication (__`*`__)\n",
    "* the values that operator operates on are called operands\n",
    "* __`13 + 15`__\n",
    "* __`year - 1`__ \n",
    "* __`hours * 60 + minutes`__\n",
    "* __`minutes / 60`__ \n",
    "* __`minutes // 60`__\n",
    "* __`minutes % 60`__\n",
    "  * __`%`__ is the _modulus_ or remainder operator\n",
    "  * yields the remainder (not the quotient) when dividing its two operands\n",
    "* __`2 ** 64`__\n",
    "* __`(x + 3) * (y - 5)`__"
   ]
  },
  {
   "cell_type": "code",
   "execution_count": null,
   "metadata": {
    "scrolled": true
   },
   "outputs": [],
   "source": [
    "13 + 15\n",
    "year - 1\n",
    "hours * 60 + minutes\n",
    "minutes / 60\n",
    "minutes // 60\n",
    "minutes % 60\n",
    "2 ** 64\n",
    "(x + 3) * (y - 5)"
   ]
  },
  {
   "cell_type": "markdown",
   "metadata": {
    "collapsed": true,
    "slideshow": {
     "slide_type": "subslide"
    }
   },
   "source": [
    "## Lab: Variables, Operators, and Expressions\n",
    "* create a variable named __minutes__ and give it an initial value of __28435__\n",
    "* create a variable named __hours__ and set it equal to __minutes__ divided by __60__\n",
    "* create a variable named __days__ and set it equal to __hours__ divided by __24__\n",
    "* try both __`/`__ and __`//`__ and be sure you understand how they differ\n",
    "* consider the following expressions and then enter them into Jupyter to verify your understanding\n",
    "  * __`days * 24 + hours * 60`__\n",
    "  * __`days * (24 + hours) * 60`__\n",
    "  * __`(days * 24) + (hours * 60)`__\n"
   ]
  },
  {
   "cell_type": "code",
   "execution_count": null,
   "metadata": {},
   "outputs": [],
   "source": [
    "minutes = 28435\n",
    "hours = minutes / 60\n",
    "hours2 = minutes // 60\n",
    "hours3 = minutes % 60\n",
    "days = hours / 24\n",
    "days2 = hours // 24\n",
    "days3 = hours % 24\n",
    "print(minutes)\n",
    "print(hours)\n",
    "print(hours2)\n",
    "print(hours3)\n",
    "print(days)\n",
    "print(days2)\n",
    "print(days3)"
   ]
  },
  {
   "cell_type": "markdown",
   "metadata": {
    "slideshow": {
     "slide_type": "subslide"
    }
   },
   "source": [
    "## Boolean Expressions and Logical Operators\n",
    "![alt text](images/George_Boole_color.jpg)\n",
    "* named after George Boole, an English mathematician (1813-1864)\n",
    "* he developed a system called _Boolean Algebra_, which laid the foundations for the Information Age\n",
    "  * Boolean Algebra deals with values which are either TRUE or FALSE\n",
    "  * in order to understand Boolean Algebra, we first need to consider how to get a TRUE or FALSE value\n",
    "  * a _Boolean expression_ is an expression that is either TRUE or FALSE\n",
    "    * __\"K2, the second tallest mountain in the world, is 28,251 feet above sea level.\" (TRUE)__\n",
    "    * __\"There are 31 days in April.\" (FALSE)__\n",
    "    * __`1 + 2 == 3` (TRUE)__\n",
    "    * __`2 ** 3 == 9` (FALSE)__\n",
    "  * let's try some in the Python interpreter"
   ]
  },
  {
   "cell_type": "code",
   "execution_count": null,
   "metadata": {
    "slideshow": {
     "slide_type": "-"
    }
   },
   "outputs": [],
   "source": [
    "2 + 3 == 5"
   ]
  },
  {
   "cell_type": "code",
   "execution_count": null,
   "metadata": {},
   "outputs": [],
   "source": [
    "x = 2 # assignment statement\n",
    "x == 3 # note the difference between = (assignment) and == (testing for equality)"
   ]
  },
  {
   "cell_type": "code",
   "execution_count": null,
   "metadata": {},
   "outputs": [],
   "source": [
    "x != 3"
   ]
  },
  {
   "cell_type": "code",
   "execution_count": null,
   "metadata": {},
   "outputs": [],
   "source": []
  },
  {
   "cell_type": "markdown",
   "metadata": {},
   "source": [
    "* True and False are special values that are built-in to Python\n",
    "* the other operators are:\n",
    "  * __`>, >=`__\n",
    "  * __`<, <=`__\n",
    "  * and __`==`__, __`!=`__, as we've seen"
   ]
  },
  {
   "cell_type": "markdown",
   "metadata": {
    "slideshow": {
     "slide_type": "subslide"
    }
   },
   "source": [
    "## Lab: Boolean Expressions\n",
    "* write a Boolean expression to determine whether the variable __xyz__ is greater than 100 (you will have to define the variable first)\n",
    "* write a Boolean expression to determine whether the variable __company__ is equal to the string 'salesforce'"
   ]
  },
  {
   "cell_type": "code",
   "execution_count": null,
   "metadata": {},
   "outputs": [],
   "source": [
    "xyz = 108\n",
    "print(xyz > 100)\n",
    "print(xyz < 100)\n",
    "\n",
    "print('---------------------------')    \n",
    "company = 'salesforce'\n",
    "print(company)\n",
    "\n",
    "print('---------------------------')\n",
    "if type(company) == str and company == 'salesforce':\n",
    "    print(f'company ({company}) is a string')\n",
    "else:\n",
    "    print(f'company ({company}) is NOT a string')\n",
    "\n",
    "print(type(company).__name__ == str)\n",
    "print(isinstance(company,str))\n",
    "print(type(company))\n",
    "\n",
    "print('---------------------------')\n",
    "company = 15\n",
    "print(f\"company is {company}\")\n",
    "\n",
    "print('---------------------------')  \n",
    "if type(company) == str and company == 'salesforce':\n",
    "    print(f'company ({company}) is a string')\n",
    "else:\n",
    "    print(f'company ({company}) is NOT a string')\n",
    "    \n",
    "print(type(company).__name__ == str)\n",
    "isinstance(company,str)\n",
    "type(company)\n",
    "type(company) == str"
   ]
  },
  {
   "cell_type": "markdown",
   "metadata": {
    "slideshow": {
     "slide_type": "subslide"
    }
   },
   "source": [
    "###### Logical Operators\n",
    "* there are three: __`and`__, __`or`__, __`not`__\n",
    "* they mean roughly the same thing as they mean in English:\n",
    "  * __if you finish your homework AND the temperature is above freezing, you can play in the yard__\n",
    "  * __if it snows OR the temperature is lower than 20ºF, school will be canceled__\n",
    "  * __if it is NOT past 9pm, the library should be open__\n",
    "  * __`x > 0 and x < 10`__ means __x is greater than 0 _and_ less than 10__\n",
    "  * __`x > 0 or y < 5`__ means  __either__ x is greater than 0 _or_ y is less than 5 (or both)__"
   ]
  },
  {
   "cell_type": "markdown",
   "metadata": {
    "slideshow": {
     "slide_type": "subslide"
    }
   },
   "source": [
    "## Boolean Algebra\n",
    "* let's see how George Boole's algebra works in Python\n",
    "* to do this, we can make _truth tables_ which show how the logical operators interact with True and False values..."
   ]
  },
  {
   "cell_type": "code",
   "execution_count": null,
   "metadata": {
    "slideshow": {
     "slide_type": "-"
    }
   },
   "outputs": [],
   "source": [
    "# and\n",
    "print(False and False)\n",
    "print(False and True)\n",
    "print(True and False)\n",
    "print(True and True)"
   ]
  },
  {
   "cell_type": "code",
   "execution_count": null,
   "metadata": {
    "slideshow": {
     "slide_type": "subslide"
    }
   },
   "outputs": [],
   "source": [
    "# or\n",
    "print(False or False)\n",
    "print(False or True)\n",
    "print(True or False)\n",
    "print(True or True)"
   ]
  },
  {
   "cell_type": "code",
   "execution_count": null,
   "metadata": {
    "slideshow": {
     "slide_type": "subslide"
    }
   },
   "outputs": [],
   "source": [
    "# not\n",
    "print(not False)\n",
    "print(not True)"
   ]
  },
  {
   "cell_type": "code",
   "execution_count": null,
   "metadata": {},
   "outputs": [],
   "source": [
    "bval = None\n",
    "if bval:\n",
    "    print(True)\n",
    "else:\n",
    "    print(False)"
   ]
  },
  {
   "cell_type": "code",
   "execution_count": null,
   "metadata": {},
   "outputs": [],
   "source": [
    "# strictly speaking, the operands of logical operators should be boolean expressions\n",
    "# ...but Python isn't strict about it–any non-zero value is considered \"True\" in Python\n",
    "y = 4\n",
    "print('y =', y)\n",
    "True and y"
   ]
  },
  {
   "cell_type": "code",
   "execution_count": null,
   "metadata": {},
   "outputs": [],
   "source": [
    "# and 0 is considered False\n",
    "y = 0\n",
    "True and y"
   ]
  },
  {
   "cell_type": "code",
   "execution_count": null,
   "metadata": {},
   "outputs": [],
   "source": [
    "arg = 'JR'\n",
    "arg = arg or 'Default'\n",
    "print(\"Hello\",arg)"
   ]
  },
  {
   "cell_type": "code",
   "execution_count": null,
   "metadata": {},
   "outputs": [],
   "source": [
    "arg = ''\n",
    "arg = arg or 'Default'\n",
    "print(\"Hello\",arg)"
   ]
  },
  {
   "cell_type": "code",
   "execution_count": null,
   "metadata": {},
   "outputs": [],
   "source": [
    "# ...as is an empty string\n",
    "empty = ''\n",
    "not empty"
   ]
  },
  {
   "cell_type": "markdown",
   "metadata": {
    "collapsed": true,
    "slideshow": {
     "slide_type": "subslide"
    }
   },
   "source": [
    "## Lab: Boolean Algebra\n",
    "* write a Boolean expression which determines whether __year__ is equal to 2017 and __xyz__ is less than 10"
   ]
  },
  {
   "cell_type": "code",
   "execution_count": null,
   "metadata": {},
   "outputs": [],
   "source": [
    "from datetime import date\n",
    "year = date.today().year\n",
    "print(year)\n",
    "result = year == 2017 and xyz < 10\n",
    "print(result)"
   ]
  },
  {
   "cell_type": "code",
   "execution_count": null,
   "metadata": {},
   "outputs": [],
   "source": [
    "year=2017.0\n",
    "print(year)\n",
    "result = year == 2017 and xyz > 10\n",
    "print(result)"
   ]
  },
  {
   "cell_type": "markdown",
   "metadata": {
    "slideshow": {
     "slide_type": "subslide"
    }
   },
   "source": [
    "## Boolean Variables in Python\n",
    "* at this point, it probably won't surprise you to find out that Python also has Boolean variables, i.e., variables that contain the special value True or False\n",
    "* we will see how to use Boolean variables later, but for now we will demonstrate..."
   ]
  },
  {
   "cell_type": "code",
   "execution_count": null,
   "metadata": {},
   "outputs": [],
   "source": [
    "ok = True\n",
    "type(ok)"
   ]
  },
  {
   "cell_type": "code",
   "execution_count": null,
   "metadata": {},
   "outputs": [],
   "source": [
    "bool(0.0)"
   ]
  },
  {
   "cell_type": "code",
   "execution_count": null,
   "metadata": {},
   "outputs": [],
   "source": [
    "is_even = 42 % 2 == 0 # Is 42 even? In other words is there no remainder when dividing 42 by 2?\n",
    "is_even"
   ]
  },
  {
   "cell_type": "markdown",
   "metadata": {
    "slideshow": {
     "slide_type": "subslide"
    }
   },
   "source": [
    "## Lab: Boolean Variables\n",
    "* create a Boolean variable which determines whether the variable __company__ is equal to 'salesforce'"
   ]
  },
  {
   "cell_type": "code",
   "execution_count": null,
   "metadata": {},
   "outputs": [],
   "source": [
    "company = 'salesforce'\n",
    "company_bool = company == 'salesforce'\n",
    "company_bool"
   ]
  },
  {
   "cell_type": "markdown",
   "metadata": {
    "slideshow": {
     "slide_type": "subslide"
    }
   },
   "source": [
    "## Type Conversion Functions\n",
    "* Python has built-in type conversion functions that let you convert a value of one type to another (within reason)\n",
    "* __`int(x)`__ will convert __`x`__ to an integer\n",
    "  * only works if __`x`__ can be converted to an integer\n",
    "* __`float(x)`__ will convert __`x`__ to a floating point number\n",
    "  * only works if __`x`__ can be converted to a float\n",
    "* __`str(x)`__ will convert __`x`__ to a string\n",
    "  * always works\n",
    "* __`bool(x)`__ will convert __`x`__ to a bool\n",
    "  * always works"
   ]
  },
  {
   "cell_type": "code",
   "execution_count": null,
   "metadata": {},
   "outputs": [],
   "source": [
    "int(35.5)"
   ]
  },
  {
   "cell_type": "code",
   "execution_count": null,
   "metadata": {},
   "outputs": [],
   "source": [
    "float(35.5)"
   ]
  },
  {
   "cell_type": "code",
   "execution_count": null,
   "metadata": {},
   "outputs": [],
   "source": [
    "int('35.5')"
   ]
  },
  {
   "cell_type": "code",
   "execution_count": null,
   "metadata": {},
   "outputs": [],
   "source": [
    "number='35.5'\n",
    "type(number)"
   ]
  },
  {
   "cell_type": "code",
   "execution_count": null,
   "metadata": {},
   "outputs": [],
   "source": [
    "int(float('35.5'))"
   ]
  },
  {
   "cell_type": "code",
   "execution_count": null,
   "metadata": {},
   "outputs": [],
   "source": [
    "float(1)"
   ]
  },
  {
   "cell_type": "code",
   "execution_count": null,
   "metadata": {
    "scrolled": true
   },
   "outputs": [],
   "source": [
    "str(3.14159)"
   ]
  },
  {
   "cell_type": "code",
   "execution_count": null,
   "metadata": {},
   "outputs": [],
   "source": [
    "int(str('3.14159'))"
   ]
  },
  {
   "cell_type": "code",
   "execution_count": null,
   "metadata": {},
   "outputs": [],
   "source": [
    "bool(''), bool(34), bool(not int(True))"
   ]
  },
  {
   "cell_type": "markdown",
   "metadata": {
    "slideshow": {
     "slide_type": "subslide"
    }
   },
   "source": [
    "## Lab: Type Conversion\n",
    "* write Python code to prompt the user to enter a year\n",
    "* ...then reads input from the user\n",
    "* ...then converts what was read into an integer\n",
    "* print out the final result and verify that it's an integer\n",
    "* your output should look something like this:\n",
    "\n",
    "<pre><b>\n",
    "Enter a year: 2017\n",
    "The year you entered was 2017.\n",
    "\n",
    "&lt;class 'int'>\n",
    "</b></pre>"
   ]
  },
  {
   "cell_type": "code",
   "execution_count": null,
   "metadata": {},
   "outputs": [],
   "source": [
    "year = input('Please enter a year:')\n",
    "print('Year entered is:', year)\n",
    "year = int(year)\n",
    "print(year)\n",
    "year_type=type(year) == int\n",
    "print(f\"{year} is type {type(year).__name__}\")\n",
    "print(type(year).__name__)"
   ]
  },
  {
   "cell_type": "code",
   "execution_count": null,
   "metadata": {},
   "outputs": [],
   "source": [
    "try:\n",
    "    year=int(input(\"Please enter a year:\"))\n",
    "except:\n",
    "    print(f\"Exception {year}: Please only enter an integer\")\n",
    "else:\n",
    "    print(year)\n",
    "finally:\n",
    "    print('command complete')"
   ]
  },
  {
   "cell_type": "code",
   "execution_count": null,
   "metadata": {
    "scrolled": true
   },
   "outputs": [],
   "source": [
    "## String formatting\n",
    "num = 5\n",
    "print('This is an int: %s' % 7)\n",
    "print('This is also an int: {num}, str: {whatever}'.format(num=13, whatever='mystring'))\n",
    "print(f'This is yet again an int: {num}')"
   ]
  },
  {
   "cell_type": "code",
   "execution_count": null,
   "metadata": {},
   "outputs": [],
   "source": [
    "## Everything is an object!\n",
    "\n",
    "n = int(7)\n",
    "print(n.__class__)\n",
    "print(dir(n))\n",
    "print(n.bit_length())\n",
    "help(n.bit_length)"
   ]
  },
  {
   "cell_type": "code",
   "execution_count": null,
   "metadata": {},
   "outputs": [],
   "source": [
    "## Everything is an object!\n",
    "\n",
    "n = str('7')\n",
    "print(n.__class__)\n",
    "print(dir(n))\n",
    "print(n.isnumeric())\n",
    "help(n.bit_length)"
   ]
  },
  {
   "cell_type": "code",
   "execution_count": null,
   "metadata": {},
   "outputs": [],
   "source": [
    "s = 'abc'\n",
    "n = 123\n",
    "# s + n  Error!\n",
    "dir(s)\n",
    "s.__add__(n)"
   ]
  },
  {
   "cell_type": "markdown",
   "metadata": {
    "slideshow": {
     "slide_type": "subslide"
    }
   },
   "source": [
    "## String Operations\n",
    "* you can't do arithmetic on strings, even if the value inside the string looks like a number...\n",
    "* so, __`'2' + '4'`__ is not __`'6'`__ in Python\n",
    "* but the + and * operators work on strings...\n",
    "  * __`+`__ = _concatenation_ (__`'good' + 'bye'`__ yields __`'goodbye'`__)\n",
    "  * __`*`__ = replication (__`'good' * 4`__ yields __`'goodgoodgoodgood'`__)"
   ]
  },
  {
   "cell_type": "code",
   "execution_count": null,
   "metadata": {},
   "outputs": [],
   "source": [
    "name = input('Name? ')\n",
    "message = 'Hello ' + name + ', how are you?'\n",
    "message"
   ]
  },
  {
   "cell_type": "code",
   "execution_count": null,
   "metadata": {},
   "outputs": [],
   "source": [
    "ruler = '1234567890' * 4\n",
    "line = '-' * 40\n",
    "print(ruler)\n",
    "print(line)"
   ]
  },
  {
   "cell_type": "markdown",
   "metadata": {
    "slideshow": {
     "slide_type": "subslide"
    }
   },
   "source": [
    "## Lab: Strings\n",
    "* read in two separate strings from the user\n",
    "* create a new string which consists of the second string followed by a space, followed by the first string\n",
    "* e.g, \"hello\" and \"there\" would become \"there hello\""
   ]
  },
  {
   "cell_type": "code",
   "execution_count": null,
   "metadata": {},
   "outputs": [],
   "source": [
    "string1=input('Enter String 1:')\n",
    "string2=input('Enter String 2:')\n",
    "print(string2 + ' ' + string1)"
   ]
  },
  {
   "cell_type": "markdown",
   "metadata": {
    "slideshow": {
     "slide_type": "subslide"
    }
   },
   "source": [
    "## Indexing Strings\n",
    "* we can access the individual characters of a string using brackets–__`[]`__\n",
    "* the first character of a string is at index 0 (all counting in computer science begins with 0)"
   ]
  },
  {
   "cell_type": "code",
   "execution_count": null,
   "metadata": {
    "slideshow": {
     "slide_type": "-"
    }
   },
   "outputs": [],
   "source": [
    "name = input('Enter your name: ')\n",
    "print('The first character of', name, 'is', name[0])"
   ]
  },
  {
   "cell_type": "markdown",
   "metadata": {
    "slideshow": {
     "slide_type": "subslide"
    }
   },
   "source": [
    "## Lab: Indexing Strings\n",
    "* prompt the user and read a string\n",
    "* prompt the user for an index\n",
    "*  use the index to print out the character at that offset (e.g., if user enters '3', you would print out the [3] character of the string\n",
    "* what happens if you hit return (i.e., enter an \"empty string\")?\n",
    "* what happens if you set the zeroth character of the string you read to 'x'\n",
    "    * __`name[0] = 'x'`__"
   ]
  },
  {
   "cell_type": "code",
   "execution_count": null,
   "metadata": {
    "scrolled": true
   },
   "outputs": [],
   "source": [
    "input1=input('Enter a string:')\n",
    "input2=input('Enter an index/number:')\n",
    "input3=int(input2)\n",
    "print(input1[input3])\n",
    "line='-'*40\n",
    "print(line)"
   ]
  },
  {
   "cell_type": "code",
   "execution_count": null,
   "metadata": {},
   "outputs": [],
   "source": [
    "input4=input('Enter a Empty string:')\n",
    "input5=input('Enter an index/number:')\n",
    "try:\n",
    "    input6=int(input5)\n",
    "    print(input4[input6])\n",
    "except Exception as inst:\n",
    "    print(type(inst).__name__)\n",
    "    print(inst.args)\n",
    "else:\n",
    "    \n",
    "    print(line)"
   ]
  },
  {
   "cell_type": "code",
   "execution_count": null,
   "metadata": {},
   "outputs": [],
   "source": [
    "try:\n",
    "    input7=input('Enter a string:')\n",
    "    input8=input('Enter an index/number:')\n",
    "    input9=int(input8)\n",
    "    \n",
    "except Exception as inst:\n",
    "    print(type(inst).__name__)\n",
    "    error=type(inst).__name__\n",
    "else:\n",
    "    print(input7[input9])\n",
    "    print(line)\n",
    "finally:\n",
    "    "
   ]
  },
  {
   "cell_type": "markdown",
   "metadata": {
    "slideshow": {
     "slide_type": "subslide"
    }
   },
   "source": [
    "## Composition\n",
    "* one of the most useful features of Python (and other programming languages) is their ability to take small building blocks and compose them\n",
    "* e.g., we know how to add numbers and we know how to print–we already know we can do both at the same time, which is what we mean by composition:\n",
    "  * __`print(x + 17)`__\n",
    "* we can get more complex, e.g.,\n",
    "  * __`seconds = hours * 3600 + minutes * 60`__\n"
   ]
  },
  {
   "cell_type": "code",
   "execution_count": null,
   "metadata": {},
   "outputs": [],
   "source": [
    "# The dis(assembly) module will show us something interesting...\n",
    "# the bytecode into which Python is translated\n",
    "import dis\n",
    "dis.dis('x = 3; print(x + 17)')"
   ]
  },
  {
   "cell_type": "code",
   "execution_count": null,
   "metadata": {},
   "outputs": [],
   "source": [
    "r = print('Hello')\n",
    "print(r)"
   ]
  },
  {
   "cell_type": "markdown",
   "metadata": {
    "slideshow": {
     "slide_type": "slide"
    }
   },
   "source": [
    "# Statements"
   ]
  },
  {
   "cell_type": "markdown",
   "metadata": {
    "slideshow": {
     "slide_type": "subslide"
    }
   },
   "source": [
    "## Conditional Execution\n",
    "* in order to write useful programs, we typically need the ability to check some condition and change the behavior of the program accordingly\n",
    "* conditional statements give us this ability\n",
    "* the simplest form is the if statement..."
   ]
  },
  {
   "cell_type": "code",
   "execution_count": null,
   "metadata": {},
   "outputs": [],
   "source": [
    "year = int(input('Enter a year: '))\n",
    "# convert from string to integer\n",
    "\n",
    "if year > 2000:\n",
    "    print('blah', 'indented statement', 'something',\n",
    "          sep='\\n')\n",
    "    print('another')\n",
    "    \n",
    "print('after the if statement')"
   ]
  },
  {
   "cell_type": "markdown",
   "metadata": {},
   "source": [
    "* the boolean expression after the __`if`__ statement is called the condition\n",
    "* if the condition is true, then the indented statement (or statements) gets executed\n",
    "* if the condition is false, then nothing happens\n",
    "* the __`if`__ statement is made up of a header and a block of statements, like so\n",
    "    \n",
    "<img src=\"images/compound.png\" alt=\"Drawing\" style=\"width: 250px;\"/>\n",
    "\n",
    "* the header begins on a new line and ends with a colon (:)\n",
    "* the indented statements that follow are called a block\n",
    "* the first unindented statement marks the end of the block"
   ]
  },
  {
   "cell_type": "markdown",
   "metadata": {
    "slideshow": {
     "slide_type": "subslide"
    }
   },
   "source": [
    "## Python Indentation\n",
    "* indentation is one of the bugbagoos of Python\n",
    "* as we saw with the __`if`__ statement, we must introduce a new block with a colon\n",
    "  * ...and then indent all of the statements in the block\n",
    "  * all statements in the block must be indented the same amount\n",
    "  * don't use TABs, use spaces (Python will complain if you mix TABs and spaces)\n",
    "  * Python recommends 4 spaces per level of indentation"
   ]
  },
  {
   "cell_type": "markdown",
   "metadata": {
    "slideshow": {
     "slide_type": "subslide"
    }
   },
   "source": [
    "## Chained Conditionals\n",
    "* sometimes there are more than two possibilities and we need more than two branches\n",
    "* one way to express a computation like that is a chained conditional..."
   ]
  },
  {
   "cell_type": "code",
   "execution_count": null,
   "metadata": {},
   "outputs": [],
   "source": [
    "x, y = 9, 5 # in Python we can assign multiple values to multiple\n",
    "            # variables, but only do it this way if the variables\n",
    "            # are related\n",
    "\n",
    "if x < y:\n",
    "    print(x, \"is less than\", y)\n",
    "elif x > y:\n",
    "    print(x, \"is greater than\", y)\n",
    "else:\n",
    "    print(x, \"and\", y, \"are equal\")"
   ]
  },
  {
   "cell_type": "markdown",
   "metadata": {},
   "source": [
    "* __`elif`__ means _else if_, which is optional\n",
    "* there is no limit to the number of __`elif`__ statements\n",
    "* if there is an __`else`__, it has to be the last branch"
   ]
  },
  {
   "cell_type": "markdown",
   "metadata": {
    "slideshow": {
     "slide_type": "subslide"
    }
   },
   "source": [
    "## Nested Conditionals\n",
    "* one conditional can be nested within another\n",
    "* therefore, we could have written the previous __`if`__ statement as follows:\n"
   ]
  },
  {
   "cell_type": "code",
   "execution_count": null,
   "metadata": {},
   "outputs": [],
   "source": [
    "x = 15.2\n",
    "y = 15.2\n",
    "if x == y:\n",
    "    print (x, \"and\", y, \"are equal\")\n",
    "else:\n",
    "    if x < y:\n",
    "        print(x, \"is less than\", y)\n",
    "    else:\n",
    "        print(x, \"is greater than\", y)"
   ]
  },
  {
   "cell_type": "markdown",
   "metadata": {
    "slideshow": {
     "slide_type": "subslide"
    }
   },
   "source": [
    "## Lab: Odd-Even Program (our first program that does something)\n",
    "1. prompt the user to enter a number\n",
    "2. read input from the user\n",
    "3. convert the input to an integer\n",
    "4. tell the user whether the number entered was odd or even\n"
   ]
  },
  {
   "cell_type": "code",
   "execution_count": null,
   "metadata": {},
   "outputs": [],
   "source": [
    "input_number=input(\"Please enter a number: \")\n",
    "print(input_number)\n",
    "#if input_number.isnumeric():\n",
    "int_number=int(input_number)\n",
    "if int_number % 2 == 0:\n",
    "    print(f'{int_number} is Even')\n",
    "else:\n",
    "    print(f'{int_number} is Odd')  "
   ]
  },
  {
   "cell_type": "code",
   "execution_count": null,
   "metadata": {},
   "outputs": [],
   "source": [
    "#testing with try except & numeric string validation\n",
    "#running these 2 to remove variables for multi-attempts\n",
    "try:\n",
    "    del int_number\n",
    "except:\n",
    "finally:\n",
    "    print('done')\n",
    "    \n",
    "print('hello')\n",
    "line='-' *40\n",
    "print(line)\n",
    "\n",
    "input_number=input(\"Please enter a number: \")\n",
    "\n",
    "if input_number.isnumeric() == False:\n",
    "    print(f'{input_number} is Not a number')\n",
    "    input_number=input('Please enter a NUMBER: ')\n",
    "else:\n",
    "    int_number=int(input_number)\n",
    "\n",
    "if int_number % 2 == 0:\n",
    "    print(f'{int_number} is Even')\n",
    "else:\n",
    "    print(f'{int_number} is Odd')\n",
    "\n",
    "    \n",
    "#Fix "
   ]
  },
  {
   "cell_type": "markdown",
   "metadata": {},
   "source": [
    "## Lab: Leap Year Program\n",
    "1. prompt the user to enter a year\n",
    "2. read input from the user\n",
    "3. convert the input to an integer\n",
    "4. tell the user whether the year entered is a leap year or not\n",
    "  * a year is a leap year if\n",
    "  1. it's divisible by 4 AND\n",
    "  2. it's not divisible by 100 (i.e., 1900 was not a leap year) UNLESS\n",
    "  3. it's also divisible by 400 (i.e., 2000 was a leap year)\n",
    "  \n",
    "  **Remove all duplication**"
   ]
  },
  {
   "cell_type": "code",
   "execution_count": null,
   "metadata": {
    "scrolled": true
   },
   "outputs": [],
   "source": [
    "leap_year=input('Please enter a year: ')\n",
    "print(leap_year)\n",
    "int_leap=int(leap_year)\n",
    "\n",
    "divfour=int_leap % 4 == 0\n",
    "#print(divfour)\n",
    "div100=int_leap % 100 != 0\n",
    "#print(div100)\n",
    "div400=int_leap % 400 == 0\n",
    "#print(div400)\n",
    "\n",
    "print(line)\n",
    "\n",
    "if(divfour and (div100 or div400)):\n",
    "    print(f'{int_leap} is a Leap Year')\n",
    "else:\n",
    "    print(f'{int_leap} is NOT a Leap Year')\n"
   ]
  },
  {
   "cell_type": "code",
   "execution_count": null,
   "metadata": {},
   "outputs": [],
   "source": [
    "leap_year=input('Please enter a year: ')\n",
    "print(leap_year)\n",
    "int_leap=int(leap_year)\n",
    "print(line)   \n",
    "if(int_leap%4==0 and (int_leap%100!=0 or int_leap%400==0)):\n",
    "    print(f'{int_leap} is a Leap Year')\n",
    "else:\n",
    "    print(f'{int_leap} is NOT a Leap Year')"
   ]
  },
  {
   "cell_type": "markdown",
   "metadata": {
    "slideshow": {
     "slide_type": "slide"
    }
   },
   "source": [
    "# The Art of Programming"
   ]
  },
  {
   "cell_type": "markdown",
   "metadata": {
    "slideshow": {
     "slide_type": "subslide"
    }
   },
   "source": [
    "## The Art of Programming\n",
    "* first off, what do we mean by programming?\n",
    "  * understanding the problem at hand\n",
    "  * formulating a solution to that problem as a series of steps\n",
    "  * converting those steps into code\n",
    "  * testing your code\n",
    "  * fixing bugs\n",
    "* next, what do we mean by art?\n",
    "  * coding is a procedure we follow, and as such, we could argue there isn't much 'art' involved\n",
    "  * however, experienced programmers often use their intuition and deep understanding of problems and coding practices to \"finesse\" a solution\n",
    "  * in a sense they can \"see\" the problem clearer, and therefore generate a solution quicker and often better than those who are inexperienced\n",
    "* so how do new programmers get to that point?\n",
    "  * just like the old joke about Carnegie Hall–practice, practice, practice!"
   ]
  },
  {
   "cell_type": "markdown",
   "metadata": {
    "slideshow": {
     "slide_type": "subslide"
    }
   },
   "source": [
    "## Converting a Problem Into Code\n",
    "1. be sure you understand the problem (do not start coding yet)\n",
    "2. write down the sequence of steps you use to solve that problem \"in real life\" (do not start coding yet)\n",
    "3. convert each step into the code to perform it\n",
    "\n",
    "__DO NOT WRITE CODE UNTIL YOU KNOW WHAT YOU ARE WRITING AND WHY YOU ARE WRITING IT!__"
   ]
  },
  {
   "cell_type": "markdown",
   "metadata": {},
   "source": [
    "## Mental Models\n",
    "* a _mental model_ is an explanation of someone's thought process about how something works in the real world\n",
    "* mental models can help generate an approach to solving problems\n",
    "* Kenneth Craik suggested in 1943 that the mind constructs \"small-scale models\" of reality that it uses to anticipate events\n",
    "* it is my belief that most bugs in our program occur because of an incorrect mental model\n",
    "  * if our understanding (or modeling) of a problem is flawed, then necessarily our code will be flawed\n",
    "* when code doesn't work, we may want to pay attention to our mental model and see if we can find flaws in it\n",
    "  * i.e., is there assumption we are making which is untrue?"
   ]
  },
  {
   "cell_type": "markdown",
   "metadata": {
    "slideshow": {
     "slide_type": "slide"
    }
   },
   "source": [
    "## Iteration\n",
    "* to _iterate_ is to _repeat_ something (in the case of programming, we will be repeating some code)"
   ]
  },
  {
   "cell_type": "markdown",
   "metadata": {
    "slideshow": {
     "slide_type": "subslide"
    }
   },
   "source": [
    "## The __`for`__ Loop\n",
    "* we use a __`for`__ loop when we want to repeat something a _known_ number of times\n",
    "* real world example–_drive for __5 blocks__ and then turn right_\n",
    "* there are two types of __`for`__ loops in Python\n",
    "  * looping through a numeric range\n",
    "  * looping through a _container_\n",
    "    * containers are Python data types which _contain_ things (e.g., a string contains characters)\n",
    "* syntax\n",
    "\n",
    "   <pre>\n",
    "      <b>\n",
    "      for variable in sequence:\n",
    "          statement(s)\n",
    "      </b>\n",
    "   </pre>\n",
    "* you choose the name of the _variable_, which should be something that makes sense\n",
    "<img src=\"images/python_for_loop.jpg\" alt=\"flow\" style=\"width: 350px;\"/>"
   ]
  },
  {
   "cell_type": "code",
   "execution_count": null,
   "metadata": {},
   "outputs": [],
   "source": [
    "# loop through a container (in this case,\n",
    "# the container is a string)\n",
    "\n",
    "for item in 'CONTAINER':\n",
    "    print(item)"
   ]
  },
  {
   "cell_type": "code",
   "execution_count": null,
   "metadata": {},
   "outputs": [],
   "source": [
    "# for reasons that are not important right now, a Python range always\n",
    "# excludes the last number ...so range(1, 10) means 1, 2, ..., 9\n",
    "\n",
    "for number in range(1, 10):\n",
    "    print(number)"
   ]
  },
  {
   "cell_type": "markdown",
   "metadata": {},
   "source": [
    "## Lab: for loops\n",
    "* write a Python program which asks the user for a string and then outputs the same string with each character duplicated\n",
    "  * e.g., if the user enters __salesforce__, your program will output __ssaalleessffoorrccee__\n",
    "* write a Python program to compute __`n! (= n * n - 1 * n - 2 ... * 1)`__\n",
    "  * so if the user enters a 5, your program should compute __`5 * 4 * 3 * 2 * 1 (120)`__"
   ]
  },
  {
   "cell_type": "code",
   "execution_count": null,
   "metadata": {
    "scrolled": true
   },
   "outputs": [],
   "source": [
    "user_string=input('Please enter a string: ')\n",
    "new_string=str()\n",
    "for string in user_string:\n",
    "    double_char=string*2\n",
    "    #print(double_char)\n",
    "    new_string+=double_char\n",
    "print(new_string)"
   ]
  },
  {
   "cell_type": "code",
   "execution_count": null,
   "metadata": {
    "scrolled": true
   },
   "outputs": [],
   "source": [
    "user_string=input('Please enter a string: ')\n",
    "new_string=str()\n",
    "for string in user_string:\n",
    "    #double_char=string*2\n",
    "    #print(double_char)\n",
    "    new_string+=str{double_char*2}\n",
    "print(new_string)"
   ]
  },
  {
   "cell_type": "code",
   "execution_count": null,
   "metadata": {},
   "outputs": [],
   "source": [
    "user_number=input('Please enter a number: ')\n",
    "formula=str()\n",
    "user_int=int(user_number)\n",
    "for num_char in range((user_int),0,-1):\n",
    "    num_string=str(num_char)\n",
    "    if(num_char !=1):\n",
    "        formula+=num_string +'*'\n",
    "    else:\n",
    "        formula+=num_string\n",
    "print(formula)\n",
    "eval(formula)"
   ]
  },
  {
   "cell_type": "code",
   "execution_count": null,
   "metadata": {},
   "outputs": [],
   "source": [
    "###Teacher's Solution###\n",
    "n=int(input(\"Please enter a positive number: \"))\n",
    "factorial=1\n",
    "for value in range(n,1,-1):\n",
    "    factorial *= value\n",
    "print(f\"Factorial of {n} is {factorial}\")"
   ]
  },
  {
   "cell_type": "code",
   "execution_count": null,
   "metadata": {},
   "outputs": [],
   "source": [
    "user_number=input('Please input a number: ')\n",
    "user_int=int(user_number)\n",
    "import math\n",
    "math.factorial(user_int)"
   ]
  },
  {
   "cell_type": "markdown",
   "metadata": {
    "slideshow": {
     "slide_type": "subslide"
    }
   },
   "source": [
    "## The __`while`__ Loop\n",
    "* we use a __`while`__ loop when we want to repeat something an _unknown_ number of times\n",
    "* real world example–_keep driving until you get to a traffic light, then turn right_\n",
    "* a __`while`__ loop checks a boolean condition and keeps going until the condition becomes false \n",
    "* much less common than __`for`__ loops\n",
    "* syntax\n",
    "\n",
    "   <pre>\n",
    "      <b>\n",
    "      while condition:\n",
    "          statement(s)\n",
    "      </b>\n",
    "   </pre>\n",
    "        \n",
    "<img src=\"images/python_while_loop.jpg\" alt=\"flow\" style=\"width: 350px;\"/>\n"
   ]
  },
  {
   "cell_type": "code",
   "execution_count": null,
   "metadata": {},
   "outputs": [],
   "source": [
    "num = 0\n",
    "while num < 1:\n",
    "    num = int(input(\n",
    "        \"Enter a positive number: \"))"
   ]
  },
  {
   "cell_type": "code",
   "execution_count": null,
   "metadata": {},
   "outputs": [],
   "source": [
    "counter = 0\n",
    "while counter < 10:\n",
    "    counter = input(int(\"Please enter a number: \")\n",
    "    counter+=1\n",
    "print(counter)"
   ]
  },
  {
   "cell_type": "markdown",
   "metadata": {},
   "source": [
    "# Lab: while loops\n",
    "1. write Python code which prompts the user to enter a 5-letter string\n",
    "  * it then reads input from the user and stops if the user did in fact enter a 5-letter string\n",
    "  * otherwise, it prints an error message, and once again asks the user to enter a 5-letter string\n",
    "2. write a Python program which picks a random number between 1 and 100 and asks the user to guess it\n",
    "  * if the user's guess is too high, say it's too high\n",
    "  * if the user's guess is too low, say it's too low\n",
    "  * if the user's guess is correct, say it's correct and stop looping\n",
    "  * you can use the code below to get a random number\n",
    "  \n",
    "  <pre><b>\n",
    "  import random\n",
    "  number = random.randint(1, 100)\n",
    "  </b></pre>"
   ]
  },
  {
   "cell_type": "code",
   "execution_count": null,
   "metadata": {},
   "outputs": [],
   "source": [
    "#Lab: While Loops #1 string length \n",
    "user_str=input(\"Please enter a 5-letter string: \")\n",
    "while (len(str(user_str)) != 5):\n",
    "    print(f\"incorrect {user_str}\")\n",
    "    user_str=input(\"Please enter a 5-letter string again: \")"
   ]
  },
  {
   "cell_type": "code",
   "execution_count": null,
   "metadata": {},
   "outputs": [],
   "source": [
    "#Lab: While Loops #1 string length + regex match for letters\n",
    "user_str=input(\"Please enter a 5-letter string: \")\n",
    "\n",
    "import re #imports regex\n",
    "\n",
    "ltr_match=bool(re.match(f\"[a-zA-Z]\", user_str))\n",
    "\n",
    "while (len(str(user_str)) != 5): # and (user_str) :\n",
    "    print(f\"incorrect: {user_str}\")\n",
    "    user_str=input(\"Please enter a 5-letter string again: \")\n",
    "    "
   ]
  },
  {
   "cell_type": "code",
   "execution_count": null,
   "metadata": {},
   "outputs": [],
   "source": [
    "#Lab: While Loops #2\n",
    "import random\n",
    "random_num = random.randint(1, 100)\n",
    "print(random_num)\n",
    "\n",
    "guess = int(input(\"Please enter a number between 1 and 100: \"))\n",
    "if (guess == random_num):\n",
    "    print(f\"You guessed Correctly! Guess: {guess} is equal to Random: {random_num}\")\n",
    "else:\n",
    "    while (guess != random_num):\n",
    "        if(guess > random_num):\n",
    "            print(f\"Guess: {guess} is greater than Random: {random_num}\")\n",
    "        else:\n",
    "            print(f\"Guess: {guess} is lower than Random: {random_num}\")\n",
    "        guess=int(input(\"Please guess bt 1 and 100: \"))\n",
    "    print(f\"Finally guessed it right! Guess: {guess} is equal to Random: {random_num}\")"
   ]
  },
  {
   "cell_type": "code",
   "execution_count": null,
   "metadata": {},
   "outputs": [],
   "source": [
    "#Lab: While Loops #2\n",
    "import random\n",
    "random_num = random.randint(1, 100)\n",
    "print(random_num)\n",
    "\n",
    "guess = int(input(\"Please enter a number between 1 and 100: \"))\n",
    "while (guess != random_num):\n",
    "    if(guess > random_num):\n",
    "        print(f\"Guess: {guess} is greater than Random: {random_num}\")\n",
    "        guess=int(input(\"Please guess bt 1 and 100: \"))\n",
    "    elif(guess < random_num):\n",
    "        print(f\"Guess: {guess} is lower than Random: {random_num}\")\n",
    "        guess=int(input(\"Please guess bt 1 and 100: \"))\n",
    "    else:\n",
    "        print(f\"Finally guessed Correctly! Guess: {guess} is equal to Random: {random_num}\")\n",
    "print(f\"Hole in One! Guess: {guess} is equal to Random: {random_num}\")"
   ]
  },
  {
   "cell_type": "code",
   "execution_count": null,
   "metadata": {},
   "outputs": [],
   "source": [
    "#Hot Cold Guessing Game\n",
    "\n"
   ]
  },
  {
   "cell_type": "markdown",
   "metadata": {
    "slideshow": {
     "slide_type": "subslide"
    }
   },
   "source": [
    "## Syntax Common to Both __`for`__ and __`while`__ Loops\n",
    "* the __`break`__ statement is used to immediately exit a loop\n",
    "* the __`continue`__ statement is used to skip the rest of the loop and continue with the next iteration\n",
    "* the __`else`__ clause is executed only if the loop finished _normally_–meaning it did not finish as a result of a __`break`__ statement\n",
    "  * __`else`__ is a terrible name and we just have to live with it\n",
    "* let's see examples of each of these..."
   ]
  },
  {
   "cell_type": "code",
   "execution_count": null,
   "metadata": {},
   "outputs": [],
   "source": [
    "# 'break' example: find the first multiple\n",
    "# of 37 >= to the entered number\n",
    "\n",
    "num = int(input('Enter low number: '))\n",
    "\n",
    "for check in range(num, num + 37):\n",
    "    if check % 37 == 0: # num is divisible by 37\n",
    "        print('First multiple of 37 above',\n",
    "              num, 'is', check)\n",
    "        break # quit the loop right now"
   ]
  },
  {
   "cell_type": "code",
   "execution_count": null,
   "metadata": {},
   "outputs": [],
   "source": [
    "# 'continue' example: print out whether numbers are even or odd\n",
    "\n",
    "for num in range(2, 11): # 2..10\n",
    "    if num % 2 == 0: # if num is divisible by 2 (hence even)\n",
    "        print(num, 'is even')\n",
    "        continue # skip next line and iterate again\n",
    "    print(num, 'is odd')"
   ]
  },
  {
   "cell_type": "code",
   "execution_count": null,
   "metadata": {},
   "outputs": [],
   "source": [
    "line='-'*40\n",
    "star='*'*40\n",
    "for num in range(-10, 10):\n",
    "    #print(num)\n",
    "    if num == 0:\n",
    "        continue\n",
    "    result = 10 / num\n",
    "    #print(result)\n",
    "    #print(line)\n",
    "    result += 5\n",
    "    #print(result)\n",
    "    #print(line)\n",
    "    result += 3\n",
    "    #print(f\"loop {result}\")\n",
    "    #print(star)"
   ]
  },
  {
   "cell_type": "code",
   "execution_count": null,
   "metadata": {},
   "outputs": [],
   "source": [
    "# else example\n",
    "\n",
    "for num in range(1, 6): # 1..5\n",
    "    word = input('Enter a 5-letter word: ')\n",
    "    # here we see a new function, len()\n",
    "    if len(word) == 5:\n",
    "        break\n",
    "# this is only executed if we didn't 'break' out of the loop\n",
    "else:\n",
    "    print(\"Why can't you follow directions?\")\n",
    "print('This will always execute')"
   ]
  },
  {
   "cell_type": "markdown",
   "metadata": {},
   "source": [
    "## Lab: break/continue/else\n",
    "* modify your guessing game to add the option for the user to give up by typing a 0 as his or her guess:\n",
    "    * if the user enters a 0, exit the loop\n",
    "    * after the loop, we need to determine   \n",
    "    whether the user gave up or guessed the   \n",
    "    number correctly\n",
    "    * if gave up, print 'sorry you\n",
    "     gave up'\n",
    "    * if correct, print 'got it!'\n",
    "</pre>\n"
   ]
  },
  {
   "cell_type": "code",
   "execution_count": null,
   "metadata": {},
   "outputs": [],
   "source": [
    "#Lab: break/continue/else #2\n",
    "import random\n",
    "random_num = random.randint(1, 100)\n",
    "print(random_num)\n",
    "\n",
    "guess = int(input(\"Please enter a number between 1 and 100; Enter 0 to Quit: \"))\n",
    "if(guess == random_num):\n",
    "    first_try=True\n",
    "    print(f\"Hole in One! Guess: {guess} is equal to Random: {random_num}\")\n",
    "    \n",
    "while (guess != random_num):\n",
    "    if(guess == 0):\n",
    "        print('You gave up')\n",
    "        break\n",
    "    elif(guess > random_num):\n",
    "        print(f\"Guess: {guess} is greater than Random: {random_num}\")\n",
    "        guess=int(input(\"Please guess bt 1 and 100: \"))\n",
    "    elif(guess < random_num):\n",
    "        print(f\"Guess: {guess} is lower than Random: {random_num}\")\n",
    "        guess=int(input(\"Please guess bt 1 and 100: \"))\n",
    "if(guess == random_num and first_try != True):\n",
    "    print(f\"Guessed Correctly! Guess: {guess} is equal to Random: {random_num}\")"
   ]
  },
  {
   "cell_type": "code",
   "execution_count": null,
   "metadata": {},
   "outputs": [],
   "source": [
    "#Lab: break/continue/else #2\n",
    "import random\n",
    "random_num = random.randint(1, 100)\n",
    "print(random_num)\n",
    "#guess = int(input(\"Please enter a number between 1 and 100; Enter 0 to Quit: \"))\n",
    "#    print(f\"Hole in One! Guess: {guess} is equal to Random: {random_num}\")\n",
    "attempt=0\n",
    "while True:\n",
    "    attempt+=1\n",
    "    guess = int(input(\"Please enter a number between 1 and 100; Enter 0 to Quit: \"))\n",
    "    if(guess == 0):\n",
    "        print(f'Guess #{attempt}: You gave up')\n",
    "        break\n",
    "    \n",
    "    elif(guess > random_num):\n",
    "        print(f\"Guess #{attempt}: {guess} is greater than Random: {random_num}\")\n",
    "\n",
    "    elif(guess < random_num):\n",
    "        print(f\"Guess #{attempt}: {guess} is lower than Random: {random_num}\")\n",
    "    \n",
    "    elif(guess == random_num and attempt == 1):\n",
    "        print(f\"Hole in One! Guess: {guess} is equal to Random: {random_num}\")\n",
    "        break\n",
    "    \n",
    "    else:\n",
    "        print(f\"Guessed Correctly! Guess #{attempt}: {guess} is equal to Random: {random_num}\")\n",
    "        break\n"
   ]
  },
  {
   "cell_type": "markdown",
   "metadata": {
    "slideshow": {
     "slide_type": "subslide"
    }
   },
   "source": [
    "## Post-Test Loops\n",
    "* occasionally we want a loop where the test is performed at the end of the loop\n",
    "* some languages have a special _do-while_ loop for this case, but that doesn't exist in Python\n",
    "* we can simulate a _do-while_ loop in Python as follows:\n",
    "\n",
    " <pre>\n",
    "      <b>\n",
    "      while True:\n",
    "          statement(s)\n",
    "          if condition is false:\n",
    "              break\n",
    "      </b>\n",
    "   </pre>"
   ]
  },
  {
   "cell_type": "code",
   "execution_count": null,
   "metadata": {},
   "outputs": [],
   "source": [
    "# keep adding numbers until user enters a 0\n",
    "\n",
    "total = 0\n",
    "\n",
    "while True: # infinite loop, so we must have a 'break' somewhere in the loop\n",
    "    num = int(input('Enter a number: '))\n",
    "    total += num\n",
    "    if num == 0:\n",
    "        break\n",
    "\n",
    "print(total)"
   ]
  },
  {
   "cell_type": "markdown",
   "metadata": {
    "slideshow": {
     "slide_type": "subslide"
    }
   },
   "source": [
    "## Middle-Test Loops\n",
    "* like a post-test loop, we want a loop where the test is not performed at the top\n",
    "* in this case the test is performed in the middle\n",
    "* no language has a middle-test loop construct\n",
    "* we can perform a middle-test loop in Python as follows:\n",
    "\n",
    " <pre>\n",
    "      <b>\n",
    "      while True:\n",
    "          statement(s)\n",
    "          if condition is false:\n",
    "              break\n",
    "          statement(s)\n",
    "      </b>\n",
    "   </pre>"
   ]
  },
  {
   "cell_type": "code",
   "execution_count": null,
   "metadata": {},
   "outputs": [],
   "source": [
    "# sum up the numbers until user hits return\n",
    "\n",
    "total = 0\n",
    "\n",
    "while True: \n",
    "    num = input(\"Enter the next number (leave blank to end): \")\n",
    "    if num == '':\n",
    "        break\n",
    "    total += int(num)\n",
    "    \n",
    "print(\"The total of the numbers you entered is\", total)"
   ]
  },
  {
   "cell_type": "markdown",
   "metadata": {
    "slideshow": {
     "slide_type": "subslide"
    }
   },
   "source": [
    "## Nested Loops\n",
    "* it is possible–and quite common–to have a loop inside a loop\n",
    "* in these cases, the inner loop(s) must complete before the outer loop continues"
   ]
  },
  {
   "cell_type": "code",
   "execution_count": null,
   "metadata": {},
   "outputs": [],
   "source": [
    "for first in range(1, 11):\n",
    "    # for each iteration of the outer loop, the inner loop\n",
    "    # will run to completion\n",
    "    for second in range(1, 11):\n",
    "        #print(first * second, end=' ')\n",
    "        #print('%3d' % (first * second), end=' ') # Python 2-style\n",
    "        print('{:4d}'.format(first * second), end=' ')\n",
    "\n",
    "    print()"
   ]
  },
  {
   "cell_type": "markdown",
   "metadata": {},
   "source": [
    "## Lab: Finding Prime Numbers\n",
    "* write a program to print out the prime numbers between 10 and 30\n",
    "* a number is prime if it's only divisible by 1 and itself\n",
    "* algorithm\n",
    "  * for each number 10 to 30\n",
    "    * try to divide in all of the numbers up to (but not including) the current number\n",
    "    * if any lower number divides in evenly, the number is not prime\n",
    "    * if NONE of the lower numbers divide in evenly, the number IS prime\n",
    "* later, if there's time, we'll look at another way to find prime numbers that was discovered by Eratosthenes"
   ]
  },
  {
   "cell_type": "code",
   "execution_count": 23,
   "metadata": {},
   "outputs": [
    {
     "name": "stdout",
     "output_type": "stream",
     "text": [
      "10\n",
      "2\n",
      "10 is NOT a Prime Number\n",
      "----------------------------------------\n",
      "11\n",
      "2\n",
      "3\n",
      "4\n",
      "5\n",
      "6\n",
      "7\n",
      "8\n",
      "9\n",
      "10\n",
      "11 is a Prime Number\n",
      "----------------------------------------\n",
      "12\n",
      "2\n",
      "12 is NOT a Prime Number\n",
      "----------------------------------------\n",
      "13\n",
      "2\n",
      "3\n",
      "4\n",
      "5\n",
      "6\n",
      "7\n",
      "8\n",
      "9\n",
      "10\n",
      "11\n",
      "12\n",
      "13 is a Prime Number\n",
      "----------------------------------------\n",
      "14\n",
      "2\n",
      "14 is NOT a Prime Number\n",
      "----------------------------------------\n",
      "15\n",
      "2\n",
      "3\n",
      "15 is NOT a Prime Number\n",
      "----------------------------------------\n",
      "16\n",
      "2\n",
      "16 is NOT a Prime Number\n",
      "----------------------------------------\n",
      "17\n",
      "2\n",
      "3\n",
      "4\n",
      "5\n",
      "6\n",
      "7\n",
      "8\n",
      "9\n",
      "10\n",
      "11\n",
      "12\n",
      "13\n",
      "14\n",
      "15\n",
      "16\n",
      "17 is a Prime Number\n",
      "----------------------------------------\n",
      "18\n",
      "2\n",
      "18 is NOT a Prime Number\n",
      "----------------------------------------\n",
      "19\n",
      "2\n",
      "3\n",
      "4\n",
      "5\n",
      "6\n",
      "7\n",
      "8\n",
      "9\n",
      "10\n",
      "11\n",
      "12\n",
      "13\n",
      "14\n",
      "15\n",
      "16\n",
      "17\n",
      "18\n",
      "19 is a Prime Number\n",
      "----------------------------------------\n",
      "20\n",
      "2\n",
      "20 is NOT a Prime Number\n",
      "----------------------------------------\n",
      "21\n",
      "2\n",
      "3\n",
      "21 is NOT a Prime Number\n",
      "----------------------------------------\n",
      "22\n",
      "2\n",
      "22 is NOT a Prime Number\n",
      "----------------------------------------\n",
      "23\n",
      "2\n",
      "3\n",
      "4\n",
      "5\n",
      "6\n",
      "7\n",
      "8\n",
      "9\n",
      "10\n",
      "11\n",
      "12\n",
      "13\n",
      "14\n",
      "15\n",
      "16\n",
      "17\n",
      "18\n",
      "19\n",
      "20\n",
      "21\n",
      "22\n",
      "23 is a Prime Number\n",
      "----------------------------------------\n",
      "24\n",
      "2\n",
      "24 is NOT a Prime Number\n",
      "----------------------------------------\n",
      "25\n",
      "2\n",
      "3\n",
      "4\n",
      "5\n",
      "25 is NOT a Prime Number\n",
      "----------------------------------------\n",
      "26\n",
      "2\n",
      "26 is NOT a Prime Number\n",
      "----------------------------------------\n",
      "27\n",
      "2\n",
      "3\n",
      "27 is NOT a Prime Number\n",
      "----------------------------------------\n",
      "28\n",
      "2\n",
      "28 is NOT a Prime Number\n",
      "----------------------------------------\n",
      "29\n",
      "2\n",
      "3\n",
      "4\n",
      "5\n",
      "6\n",
      "7\n",
      "8\n",
      "9\n",
      "10\n",
      "11\n",
      "12\n",
      "13\n",
      "14\n",
      "15\n",
      "16\n",
      "17\n",
      "18\n",
      "19\n",
      "20\n",
      "21\n",
      "22\n",
      "23\n",
      "24\n",
      "25\n",
      "26\n",
      "27\n",
      "28\n",
      "29 is a Prime Number\n",
      "----------------------------------------\n",
      "['11', '13', '17', '19', '23', '29']\n",
      "6\n"
     ]
    }
   ],
   "source": [
    "#Lab: Prime Numbers #1\n",
    "line='-'*40 #prints ---\n",
    "prime=str() #creates empty set\n",
    "for first_number in range(10,30):\n",
    "    print(first_number)\n",
    "    div_count=0\n",
    "    for second_number in range (2,first_number):\n",
    "        print(second_number)\n",
    "        if(first_number % second_number == 0):\n",
    "            div_count+=1\n",
    "            break\n",
    "            #print(f\"{first_number} is divisble by {second_number}\")\n",
    "        #else:\n",
    "            #print(f\"{first_number} is NOT divisble by {second_number}\") \n",
    "        #print(f\"Divisible Count is {div_count}\")\n",
    "    if(div_count == 0):\n",
    "        print(f\"{first_number} is a Prime Number\")\n",
    "        prime+=f\"{str(first_number)} \"\n",
    "    else:\n",
    "        print(f\"{first_number} is NOT a Prime Number\")\n",
    "    print(line)\n",
    "print(prime.split())\n",
    "print(len(prime.split()))\n"
   ]
  },
  {
   "cell_type": "code",
   "execution_count": 26,
   "metadata": {},
   "outputs": [
    {
     "name": "stdout",
     "output_type": "stream",
     "text": [
      "11 is a Prime Number\n"
     ]
    },
    {
     "ename": "TypeError",
     "evalue": "'int' object is not iterable",
     "output_type": "error",
     "traceback": [
      "\u001b[0;31m---------------------------------------------------------------------------\u001b[0m",
      "\u001b[0;31mTypeError\u001b[0m                                 Traceback (most recent call last)",
      "\u001b[0;32m<ipython-input-26-210383e26b1a>\u001b[0m in \u001b[0;36m<module>\u001b[0;34m\u001b[0m\n\u001b[1;32m      9\u001b[0m     \u001b[0;32mif\u001b[0m\u001b[0;34m(\u001b[0m\u001b[0mdiv_count\u001b[0m \u001b[0;34m==\u001b[0m \u001b[0;36m0\u001b[0m\u001b[0;34m)\u001b[0m\u001b[0;34m:\u001b[0m\u001b[0;34m\u001b[0m\u001b[0;34m\u001b[0m\u001b[0m\n\u001b[1;32m     10\u001b[0m         \u001b[0mprint\u001b[0m\u001b[0;34m(\u001b[0m\u001b[0;34mf\"{first_number} is a Prime Number\"\u001b[0m\u001b[0;34m)\u001b[0m\u001b[0;34m\u001b[0m\u001b[0;34m\u001b[0m\u001b[0m\n\u001b[0;32m---> 11\u001b[0;31m         \u001b[0mprime\u001b[0m\u001b[0;34m+=\u001b[0m\u001b[0mfirst_number\u001b[0m\u001b[0;34m\u001b[0m\u001b[0;34m\u001b[0m\u001b[0m\n\u001b[0m\u001b[1;32m     12\u001b[0m         \u001b[0mprint\u001b[0m\u001b[0;34m(\u001b[0m\u001b[0mline\u001b[0m\u001b[0;34m)\u001b[0m\u001b[0;34m\u001b[0m\u001b[0;34m\u001b[0m\u001b[0m\n\u001b[1;32m     13\u001b[0m \u001b[0;31m#print(prime.split())\u001b[0m\u001b[0;34m\u001b[0m\u001b[0;34m\u001b[0m\u001b[0;34m\u001b[0m\u001b[0m\n",
      "\u001b[0;31mTypeError\u001b[0m: 'int' object is not iterable"
     ]
    }
   ],
   "source": [
    "line='-'*40 #prints ---\n",
    "prime=[] #creates empty set\n",
    "for first_number in range(10,30):\n",
    "    div_count=0\n",
    "    for second_number in range (2,first_number):\n",
    "        if(first_number % second_number == 0):\n",
    "            div_count+=1\n",
    "            break\n",
    "    if(div_count == 0):\n",
    "        print(f\"{first_number} is a Prime Number\")\n",
    "        prime+=first_number\n",
    "        print(line)\n",
    "#print(prime.split())\n",
    "#print(len(prime.split()))\n",
    "print(prime)"
   ]
  },
  {
   "cell_type": "code",
   "execution_count": 22,
   "metadata": {},
   "outputs": [],
   "source": [
    "#line='-'*40 #prints ---\n",
    "#prime=str() #creates empty set\n",
    "#while True\n",
    "#    for first_number in range(10,30):\n",
    "#        if first_number % \n",
    "    \n",
    "    \n",
    "    \n",
    "#    for second_number in range (2,first_number):\n",
    "#        if(first_number % second_number == 0):\n",
    "#            break\n",
    "#        print(f\"{first_number} is a Prime Number\")\n",
    "#        prime+=f\"{str(first_number)} \"\n",
    "#    print(line)\n",
    "#print(prime.split())\n",
    "#print(len(prime.split()))\n"
   ]
  },
  {
   "cell_type": "code",
   "execution_count": 16,
   "metadata": {},
   "outputs": [],
   "source": [
    "#Lab: Prime Numbers #2 with While Loop\n",
    "\n",
    "#line='-'*40 #prints ---\n",
    "#prime=[] #creates empty set\n",
    "#while True:\n",
    "#    for first_number in range(10,30):\n",
    "#        print(line)\n",
    "#        print(f\"Range: {first_number}\")\n",
    "#        div_count=0\n",
    "\n",
    "#        for second_number in range (2,first_number):\n",
    "#            print(f\"Dividing by {second_number}\")\n",
    "#            if(first_number % second_number == 0):\n",
    "#                div_count+=1\n",
    "#                print(f\"{first_number} is divisble by {second_number}\")\n",
    "#            break\n",
    "#        break\n",
    "    \n",
    "#            else:\n",
    "#                print(f\"{first_number} is NOT divisble by {second_number}\") \n",
    "#        print(f\"Divisible Count is {div_count}\")\n",
    "        \n",
    "#    if(div_count == 0):\n",
    "#        print(f\"{first_number} is a Prime Number\")\n",
    "#        prime+={first_number}\n",
    "#    else:\n",
    "#        print(f\"{first_number} is NOT a Prime Number\")\n",
    "\n",
    "#print(prime)   \n",
    "#print(prime.split())\n",
    "#print(len(prime.split()))"
   ]
  },
  {
   "cell_type": "code",
   "execution_count": null,
   "metadata": {},
   "outputs": [],
   "source": [
    "num = 29\n",
    "29 // 2\n",
    "#if num > 1:\n",
    "#    for i in range(2, num//2):\n",
    "#        print(i)\n",
    "#        if (num % i) == 0:\n",
    "#            print(num, \"is not a prime number\")\n",
    "#            break\n",
    "#        else:\n",
    "#            print(num, \"is a prime number\")\n",
    "#else:\n",
    "#    print(num, \"is not a prime number\")\n"
   ]
  },
  {
   "cell_type": "code",
   "execution_count": null,
   "metadata": {},
   "outputs": [],
   "source": []
  },
  {
   "cell_type": "markdown",
   "metadata": {
    "slideshow": {
     "slide_type": "slide"
    }
   },
   "source": [
    "# Complex Datatypes in Python"
   ]
  },
  {
   "cell_type": "markdown",
   "metadata": {
    "slideshow": {
     "slide_type": "subslide"
    }
   },
   "source": [
    "## Lists\n",
    "* a list is an ordered set of values\n",
    "* the items which make up a list are called its _elements_\n",
    "* lists are similar to strings, which are _ordered sets of characters_\n",
    "  * except that the elements of a list can have any type\n",
    "* lists and strings—and other things that behave like ordered sets—are called sequences"
   ]
  },
  {
   "cell_type": "code",
   "execution_count": 30,
   "metadata": {},
   "outputs": [
    {
     "name": "stdout",
     "output_type": "stream",
     "text": [
      "['banana', 'apple', 'pear', 'mango', 'cherry', 'blueberry']\n",
      "['Dave', 19, 34.5]\n",
      "[]\n"
     ]
    }
   ],
   "source": [
    "list_of_fruits = ['banana', 'apple', 'pear', 'mango',\n",
    "                  'cherry', 'blueberry']\n",
    "funnylist = ['Dave', 19, 34.5]\n",
    "empty_list = []\n",
    "# sep is an optional argument or parameter to the print() function which dictates\n",
    "# the separator character that should be printed between items\n",
    "print(list_of_fruits, funnylist, empty_list, sep='\\n')"
   ]
  },
  {
   "cell_type": "markdown",
   "metadata": {},
   "source": [
    "* lists may contain duplicate elements\n",
    "* lists are usually homogeneous, but they need not be\n",
    "* other languages have a datatype called an _array_ which is similar to a list, but one main difference is that an array can only contain items of one type–i.e., an array of integers, and array of floats, etc."
   ]
  },
  {
   "cell_type": "markdown",
   "metadata": {
    "slideshow": {
     "slide_type": "subslide"
    }
   },
   "source": [
    "## Lab: Lists\n",
    "* create two lists which are different\n",
    "* compare them for equality\n",
    "* create a third list which has the same elements as one of the other lists\n",
    "* verify that Python says they are the same"
   ]
  },
  {
   "cell_type": "code",
   "execution_count": 39,
   "metadata": {},
   "outputs": [
    {
     "name": "stdout",
     "output_type": "stream",
     "text": [
      "{'nine', 'one'}\n",
      "{'five', 'three', 'seven'}\n"
     ]
    }
   ],
   "source": [
    "list_one=['one','three','five','seven','nine']\n",
    "list_two=['two','four','six','eight','ten']\n",
    "list_one == list_two\n",
    "list_three=['one','two','nine','ten']\n",
    "list_one==list_three\n",
    "print(set(list_one).intersection(set(list_three)))\n",
    "print(set(list_one).difference(set(list_three)))"
   ]
  },
  {
   "cell_type": "code",
   "execution_count": 52,
   "metadata": {},
   "outputs": [
    {
     "name": "stdout",
     "output_type": "stream",
     "text": [
      "list_one: one is equal to list_three:one\n",
      "list_one: nine is equal to list_three:nine\n",
      "['one', 'nine']\n"
     ]
    }
   ],
   "source": [
    "list_one=['one','three','five','seven','nine']\n",
    "list_two=['two','four','six','eight','ten']\n",
    "list_three=['one','two','nine','ten']\n",
    "match_list=[]\n",
    "for odd in list_one:\n",
    "    for even in list_three:\n",
    "        if odd == even:\n",
    "            print(f\"list_one: {odd} is equal to list_three:{even}\")\n",
    "            match_list+={odd}\n",
    "            break\n",
    "        #else:\n",
    "        #    print(f\"{odd} is NOT equal to {even}\")\n",
    "print(match_list)"
   ]
  },
  {
   "cell_type": "code",
   "execution_count": 49,
   "metadata": {},
   "outputs": [
    {
     "data": {
      "text/plain": [
       "False"
      ]
     },
     "execution_count": 49,
     "metadata": {},
     "output_type": "execute_result"
    }
   ],
   "source": [
    "one_list = [1,2,3]\n",
    "two_list = [4,5,6]\n",
    "one_list == two_list"
   ]
  },
  {
   "cell_type": "code",
   "execution_count": 50,
   "metadata": {},
   "outputs": [
    {
     "name": "stdout",
     "output_type": "stream",
     "text": [
      "True\n",
      "False\n",
      "140502422540032 140502462998000\n"
     ]
    }
   ],
   "source": [
    "red_list = [1,2,3]\n",
    "print(one_list == red_list)\n",
    "print(one_list is red_list)\n",
    "print(id(one_list), id(red_list))"
   ]
  },
  {
   "cell_type": "code",
   "execution_count": 54,
   "metadata": {},
   "outputs": [
    {
     "name": "stdout",
     "output_type": "stream",
     "text": [
      "True\n",
      "True\n",
      "140502421757136 140502421757136\n"
     ]
    }
   ],
   "source": [
    "blue_list = two_list\n",
    "print(two_list == blue_list)\n",
    "print(two_list is blue_list)\n",
    "print(id(two_list), id(blue_list))"
   ]
  },
  {
   "cell_type": "code",
   "execution_count": 56,
   "metadata": {},
   "outputs": [
    {
     "name": "stdout",
     "output_type": "stream",
     "text": [
      "True\n",
      "False\n",
      "140502421600288 140502421608160\n",
      "True\n",
      "True\n",
      "140502868267808 140502868267808\n"
     ]
    }
   ],
   "source": [
    "one_list = [1,2,3]\n",
    "two_list = [4,5,6]\n",
    "one_list == two_list\n",
    "\n",
    "red_list = [1,2,3]\n",
    "print(one_list == red_list)\n",
    "print(one_list is red_list)\n",
    "print(id(one_list), id(red_list))\n",
    "\n",
    "blue_list = two_list\n",
    "print(two_list == blue_list)\n",
    "print(two_list is blue_list)\n",
    "print(id(two_list), id(blue_list))"
   ]
  },
  {
   "cell_type": "markdown",
   "metadata": {
    "slideshow": {
     "slide_type": "subslide"
    }
   },
   "source": [
    "## Accessing Elements of a List\n",
    "* the syntax for accessing the elements of a list is the same as the syntax for accessing the characters of a string—the bracket operator–__`[]`__\n",
    "* the expression inside the brackets specifies the index\n",
    "* the indices start at 0, because computer scientists start counting at 0\n",
    "* you can use negative indices to refer to the elements from the end backwards"
   ]
  },
  {
   "cell_type": "code",
   "execution_count": 59,
   "metadata": {},
   "outputs": [
    {
     "name": "stdout",
     "output_type": "stream",
     "text": [
      "['banana', 'apple', 'pear', 'mango', 'cherry', 'blueberry']\n",
      "['Dave', 19, 34.5]\n",
      "[]\n"
     ]
    }
   ],
   "source": [
    "list_of_fruits = ['banana', 'apple', 'pear', 'mango',\n",
    "                  'cherry', 'blueberry']\n",
    "funnylist = ['Dave', 19, 34.5]\n",
    "empty_list = []\n",
    "print(list_of_fruits, funnylist, empty_list, sep='\\n')"
   ]
  },
  {
   "cell_type": "code",
   "execution_count": 57,
   "metadata": {},
   "outputs": [
    {
     "name": "stdout",
     "output_type": "stream",
     "text": [
      "banana\n",
      "['Dave', 'not Dave', 34.5]\n",
      "['banana', 'apple', 'pear', 'mango', 'cherry', 'raspberry']\n"
     ]
    }
   ],
   "source": [
    "print(list_of_fruits[0])\n",
    "funnylist[1] = 'not Dave'\n",
    "print(funnylist)\n",
    "list_of_fruits[-1] = 'raspberry'\n",
    "print(list_of_fruits)"
   ]
  },
  {
   "cell_type": "code",
   "execution_count": 61,
   "metadata": {},
   "outputs": [
    {
     "name": "stdout",
     "output_type": "stream",
     "text": [
      "bananas\n",
      "['bananass', 'apple', 'pear', 'mango', 'cherry', 'blueberry']\n",
      "['bananasss', 'apple', 'pear', 'mango', 'cherry', 'blueberry']\n"
     ]
    }
   ],
   "source": [
    "print(list_of_fruits[0])\n",
    "list_of_fruits[0] = list_of_fruits[0] + 's'\n",
    "print(list_of_fruits)\n",
    "list_of_fruits[0] += 's'\n",
    "print(list_of_fruits)"
   ]
  },
  {
   "cell_type": "markdown",
   "metadata": {
    "slideshow": {
     "slide_type": "subslide"
    }
   },
   "source": [
    "## Iterating Through a List\n",
    "* a list is a _container_, so we can use Python's natural iteration to cycle through the list\n",
    "* syntax\n",
    "\n",
    "<pre><b>\n",
    "    for item in list:\n",
    "        do something with item (e.g., print)\n",
    "</b></pre>"
   ]
  },
  {
   "cell_type": "code",
   "execution_count": 62,
   "metadata": {
    "slideshow": {
     "slide_type": "-"
    }
   },
   "outputs": [
    {
     "name": "stdout",
     "output_type": "stream",
     "text": [
      "bananasss\n",
      "apple\n",
      "pear\n",
      "mango\n",
      "cherry\n",
      "blueberry\n"
     ]
    }
   ],
   "source": [
    "for fruit in list_of_fruits:\n",
    "    print(fruit)"
   ]
  },
  {
   "cell_type": "code",
   "execution_count": 63,
   "metadata": {},
   "outputs": [
    {
     "name": "stdout",
     "output_type": "stream",
     "text": [
      "bananasss\n",
      "apple\n",
      "pear\n",
      "mango\n",
      "cherry\n",
      "blueberry\n"
     ]
    }
   ],
   "source": [
    "# Other Languages\n",
    "for i in range(len(list_of_fruits)):\n",
    "    fruit = list_of_fruits[i]\n",
    "    print(fruit)"
   ]
  },
  {
   "cell_type": "markdown",
   "metadata": {
    "slideshow": {
     "slide_type": "subslide"
    }
   },
   "source": [
    "## Slicing\n",
    "* Python has a very powerful feature called _slicing_ which allows you to specify a _slice_ (or subset) of a list (or a string as it turns out), rather than just a single element\n",
    "* slice syntax: __`container[start:stop:step]`__\n",
    "  * __`start`__ = the index at which to start\n",
    "  * __`stop`__ = the index at which to stop (+1 or -1 depending on which direction)\n",
    "  * __`step`__ = how many indices to move forward (or backward)\n",
    "  * __`start`__, __`stop`__, and __`step`__ are _optional_!"
   ]
  },
  {
   "cell_type": "code",
   "execution_count": 64,
   "metadata": {},
   "outputs": [
    {
     "data": {
      "text/plain": [
       "'Benjamin Franklin'"
      ]
     },
     "execution_count": 64,
     "metadata": {},
     "output_type": "execute_result"
    }
   ],
   "source": [
    "string = 'Frank Benedict eats jam in the morning'\n",
    "string[6:9] + string[20:23] + string[24:27] + string[:5] + 'lin'"
   ]
  },
  {
   "cell_type": "code",
   "execution_count": 67,
   "metadata": {},
   "outputs": [
    {
     "name": "stdout",
     "output_type": "stream",
     "text": [
      "13th letter of the alphabet is m\n",
      "Every other letter in the 1st half of the alphabet: acegikm\n",
      "Every other letter in the 2nd half of the alphabet: nprtvxz\n",
      "The alphabet backwards is zyxwvutsrqponmlkjihgfedcba\n",
      "abcd\n",
      "edcb\n"
     ]
    }
   ],
   "source": [
    "alphabet = 'abcdefghijklmnopqrstuvwxyz'\n",
    "print('13th letter of the alphabet is', alphabet[12])\n",
    "print('Every other letter in the 1st half of the alphabet:',\n",
    "      alphabet[:13:2])\n",
    "print('Every other letter in the 2nd half of the alphabet:',\n",
    "      alphabet[13::2])\n",
    "print('The alphabet backwards is', alphabet[::-1])\n",
    "print(alphabet[:4:1])\n",
    "print(alphabet[4:0:-1])"
   ]
  },
  {
   "cell_type": "code",
   "execution_count": null,
   "metadata": {},
   "outputs": [],
   "source": [
    "string = input('Enter a string: ')\n",
    "print('The last 3 characters of the string are:',\n",
    "      string[-3:])"
   ]
  },
  {
   "cell_type": "code",
   "execution_count": 69,
   "metadata": {
    "slideshow": {
     "slide_type": "-"
    }
   },
   "outputs": [
    {
     "name": "stdout",
     "output_type": "stream",
     "text": [
      "['bananasss', 'apple', 'pear', 'mango', 'cherry', 'blueberry']\n",
      "['blueberry', 'cherry', 'mango', 'pear', 'apple', 'bananasss']\n",
      "['mango', 'cherry', 'blueberry']\n",
      "['bananasss', 'apple', 'pear']\n",
      "The middle 3 fruits: ['pear', 'mango', 'cherry']\n",
      "Every other fruit: ['bananasss', 'pear', 'cherry']\n",
      "140502421561088 140502421609520\n"
     ]
    }
   ],
   "source": [
    "# Works the same with lists...\n",
    "print(list_of_fruits)\n",
    "print(list_of_fruits[::-1])\n",
    "print(list_of_fruits[3:])\n",
    "print(list_of_fruits[:3])\n",
    "print('The middle 3 fruits:', \n",
    "      list_of_fruits[2:5])\n",
    "print('Every other fruit:', list_of_fruits[::2])\n",
    "test_list = list_of_fruits[:]\n",
    "print(id(test_list), id(list_of_fruits))"
   ]
  },
  {
   "cell_type": "code",
   "execution_count": 70,
   "metadata": {},
   "outputs": [
    {
     "data": {
      "text/plain": [
       "['bananasss', 'apple', 'pear', 'mango', 'cherry', 'blueberry']"
      ]
     },
     "execution_count": 70,
     "metadata": {},
     "output_type": "execute_result"
    }
   ],
   "source": [
    "list_of_fruits[:60]"
   ]
  },
  {
   "cell_type": "markdown",
   "metadata": {
    "slideshow": {
     "slide_type": "subslide"
    }
   },
   "source": [
    "## Lab: Slicing\n",
    "1. print the letters of a string with a '+' between each pair of letters, but do not print a '+' after the final letter, i.e., 'h + e + l + l + o'  \n",
    "  * to do this, I want you to iterate through a _slice_ of the string which does not contain the last character, and then print the last character by itself\n",
    "2. create a list and use slicing to print the second half of the list, followed by the first half of the list\n",
    "  * once you've done this, do it again such that it does not print the middle item\n",
    "\n",
    "<pre><b>\n",
    "          [ 'one', 'two', 'three', 'four' ] => three four one two\n",
    "          [ 1, 2, 3, 4, 5 ] => 4 5 1 2\n",
    "</b></pre>"
   ]
  },
  {
   "cell_type": "code",
   "execution_count": 252,
   "metadata": {
    "scrolled": true
   },
   "outputs": [
    {
     "name": "stdout",
     "output_type": "stream",
     "text": [
      "w 140503184981040\n",
      "s 140503184602544\n",
      "o 140503184129520\n",
      "s 140503184602544\n",
      "r 140503185077744\n",
      "s 140503184602544\n",
      "d 140503185028976\n",
      "s 140503184602544\n"
     ]
    },
    {
     "data": {
      "text/plain": [
       "'sw+o+r+d+s'"
      ]
     },
     "execution_count": 252,
     "metadata": {},
     "output_type": "execute_result"
    }
   ],
   "source": [
    "slice_string='swords'\n",
    "slice_new=''\n",
    "for letter in slice_string[::]:\n",
    "    if id(letter) != id(slice_string[-1]):\n",
    "        print(letter, id(letter))\n",
    "        print(slice_string[-1], id(slice_string[-1]))\n",
    "        slice_new+=letter+'+'\n",
    "    else:\n",
    "        slice_new+=letter\n",
    "slice_new"
   ]
  },
  {
   "cell_type": "code",
   "execution_count": 228,
   "metadata": {},
   "outputs": [
    {
     "name": "stdout",
     "output_type": "stream",
     "text": [
      "a+l+p+h+a\n"
     ]
    }
   ],
   "source": [
    "alpha='alpha'\n",
    "alpha_plus=alpha[0]\n",
    "for letter in alpha[1:]:\n",
    "    alpha_plus+= \"+\" + letter\n",
    "print(alpha_plus)"
   ]
  },
  {
   "cell_type": "code",
   "execution_count": 236,
   "metadata": {},
   "outputs": [
    {
     "name": "stdout",
     "output_type": "stream",
     "text": [
      "w+o+r+d+s\n"
     ]
    }
   ],
   "source": [
    "slice_string='words'\n",
    "for letter in slice_string[::1]:\n",
    "    if letter != slice_string[-1]:\n",
    "        print(letter+'+', end='')\n",
    "    else:\n",
    "        print(letter)"
   ]
  },
  {
   "cell_type": "code",
   "execution_count": 263,
   "metadata": {
    "scrolled": true
   },
   "outputs": [
    {
     "name": "stdout",
     "output_type": "stream",
     "text": [
      "[5, 6, 7, 8, 9] [1, 2, 3, 4]\n",
      "[6, 7, 8, 9] [1, 2, 3, 4]\n"
     ]
    }
   ],
   "source": [
    "slice_two=[1,2,3,4,5,6,7,8,9]\n",
    "middle=len(slice_two)//2\n",
    "print(slice_two[middle:],(slice_two[:middle]))\n",
    "del slice_two[middle]\n",
    "#print(slice_two)\n",
    "print(slice_two[middle:],(slice_two[:middle]))\n",
    "\n",
    "slice_two=[1,2,3,4,5,6,7,8,9]\n",
    "print(slice_two[middle:],(slice_two[:middle]))"
   ]
  },
  {
   "cell_type": "markdown",
   "metadata": {
    "slideshow": {
     "slide_type": "subslide"
    }
   },
   "source": [
    "## Adding to a List...\n",
    "* the __`append()`__ function will add an item to the end of the list\n",
    "* the __`insert()`__ function will add an item at a particular offset, moving the remaining item down in the process\n",
    "* the __`extend()`__ function (also invoked via the __`+=`__ operator) will add a list to a list, one element at a time\n",
    "* NOTE: these functions (technically called _methods_) are a part of the list itself, which means that they are called by writing __`listname.append(item)`__, __`listname.insert(index, item)`__, and __`listname.extend(otherlist)`__"
   ]
  },
  {
   "cell_type": "code",
   "execution_count": null,
   "metadata": {},
   "outputs": [],
   "source": [
    "print(list_of_fruits)\n",
    "list_of_fruits.append('lemon') # NOT append(list_of_fruits, 'lemon')\n",
    "list_of_fruits"
   ]
  },
  {
   "cell_type": "code",
   "execution_count": null,
   "metadata": {},
   "outputs": [],
   "source": [
    "list_of_fruits.insert(4, 'tomato')\n",
    "print(list_of_fruits)"
   ]
  },
  {
   "cell_type": "code",
   "execution_count": null,
   "metadata": {},
   "outputs": [],
   "source": [
    "more_fruits = ['lime', 'watermelon']\n",
    "list_of_fruits.extend(more_fruits) # list_of_fruits += more_fruits\n",
    "print(list_of_fruits)"
   ]
  },
  {
   "cell_type": "code",
   "execution_count": null,
   "metadata": {},
   "outputs": [],
   "source": [
    "list_names = ['JR', 'Spencer', 'Alex']\n",
    "other_instructors = ['Dave', 'Rick']\n",
    "list_names.append(other_instructors)\n",
    "print(list_names)\n",
    "print(list_names[3][1])\n",
    "list_names.extend('Kameron')\n",
    "print(list_names)"
   ]
  },
  {
   "cell_type": "markdown",
   "metadata": {
    "slideshow": {
     "slide_type": "subslide"
    }
   },
   "source": [
    "## Lab: Lists\n",
    "* create an empty list\n",
    "* write Python code to repeatedly ask the user for a word until the word is 'quit'\n",
    "* add each word to the list\n",
    "* after the user types 'quit' print every other word (first, third, fifth, etc.)\n",
    "* then print every other word (second, fourth, sixth, etc.)\n"
   ]
  },
  {
   "cell_type": "code",
   "execution_count": 289,
   "metadata": {
    "scrolled": true
   },
   "outputs": [
    {
     "name": "stdout",
     "output_type": "stream",
     "text": [
      "Please type a word; [Type 'quit' to end]: 1\n",
      "Please type a word; [Type 'quit' to end]: 2\n",
      "Please type a word; [Type 'quit' to end]: 3\n",
      "Please type a word; [Type 'quit' to end]: 4\n",
      "Please type a word; [Type 'quit' to end]: 5\n",
      "Please type a word; [Type 'quit' to end]: 6\n",
      "Please type a word; [Type 'quit' to end]: 7\n",
      "Please type a word; [Type 'quit' to end]: 8\n",
      "Please type a word; [Type 'quit' to end]: 9\n",
      "Please type a word; [Type 'quit' to end]: 10\n",
      "Please type a word; [Type 'quit' to end]: quit\n",
      "['1', '3', '5', '7', '9']\n",
      "['2', '4', '6', '8', '10']\n",
      "['1', '2', '3', '4', '5', '6', '7', '8', '9', '10']\n"
     ]
    }
   ],
   "source": [
    "empty_list=[]\n",
    "while True:\n",
    "    new_word=input(\"Please type a word; [Type 'quit' to end]: \")\n",
    "    if(new_word == 'quit'):\n",
    "        break\n",
    "    empty_list.append(new_word)\n",
    "print(empty_list[::2])\n",
    "print(empty_list[1::2])\n",
    "print(empty_list)"
   ]
  },
  {
   "cell_type": "code",
   "execution_count": null,
   "metadata": {},
   "outputs": [],
   "source": []
  },
  {
   "cell_type": "markdown",
   "metadata": {
    "slideshow": {
     "slide_type": "subslide"
    }
   },
   "source": [
    "## Creating a List with __`split()`__\n",
    "* the __`split()`__ function splits a string into a list\n",
    "* by default, __`split()`__ will split up a string using a space as the separator\n",
    "* ...but you can specify any separator you want"
   ]
  },
  {
   "cell_type": "code",
   "execution_count": 281,
   "metadata": {},
   "outputs": [
    {
     "name": "stdout",
     "output_type": "stream",
     "text": [
      "Enter a string and I will make a list out of it: yankees knicks giants rangers\n"
     ]
    },
    {
     "data": {
      "text/plain": [
       "['yankees', 'knicks', 'giants', 'rangers']"
      ]
     },
     "execution_count": 281,
     "metadata": {},
     "output_type": "execute_result"
    }
   ],
   "source": [
    "string = input('Enter a string and I will make a list out of it: ')\n",
    "mylist = string.split()\n",
    "mylist"
   ]
  },
  {
   "cell_type": "code",
   "execution_count": 282,
   "metadata": {},
   "outputs": [
    {
     "data": {
      "text/plain": [
       "['eggs', 'milk', 'butter', 'cheese']"
      ]
     },
     "execution_count": 282,
     "metadata": {},
     "output_type": "execute_result"
    }
   ],
   "source": [
    "comma_separated = 'eggs, milk, butter, cheese'\n",
    "shopping_list = comma_separated.split(', ')\n",
    "shopping_list"
   ]
  },
  {
   "cell_type": "markdown",
   "metadata": {
    "slideshow": {
     "slide_type": "subslide"
    }
   },
   "source": [
    "## Combining a List into a String with __`join()`__\n",
    "* __`join()`__ is used to take the elements of a list (or any sequence) and concatenate them into a single string\n",
    "* the syntax looks odd because __`join()`__ is a _string_ function–__not a list function__"
   ]
  },
  {
   "cell_type": "code",
   "execution_count": 283,
   "metadata": {},
   "outputs": [
    {
     "data": {
      "text/plain": [
       "'eggs, milk, butter, cheese'"
      ]
     },
     "execution_count": 283,
     "metadata": {},
     "output_type": "execute_result"
    }
   ],
   "source": [
    "', '.join(shopping_list)\n",
    "# want to write shopping_list.join(', ')"
   ]
  },
  {
   "cell_type": "code",
   "execution_count": 296,
   "metadata": {},
   "outputs": [
    {
     "name": "stdout",
     "output_type": "stream",
     "text": [
      "['L', 'i', 'b', 'e', 'r', 't', 'y', ' ', 'M', 'u', 't', 'u', 'a', 'l']\n",
      "Liberty Mutual\n"
     ]
    }
   ],
   "source": [
    "#del list\n",
    "list_of_letters = list('Liberty Mutual')\n",
    "print(list_of_letters)\n",
    "print(''.join(list_of_letters))"
   ]
  },
  {
   "cell_type": "code",
   "execution_count": 302,
   "metadata": {},
   "outputs": [
    {
     "name": "stdout",
     "output_type": "stream",
     "text": [
      "w+o+o+o+o+o+o+h+a+a\n"
     ]
    }
   ],
   "source": [
    "woo='+'.join(list('woooooohaa'))\n",
    "print(woo)"
   ]
  },
  {
   "cell_type": "code",
   "execution_count": 291,
   "metadata": {},
   "outputs": [
    {
     "data": {
      "text/plain": [
       "'h+e+l+l+o'"
      ]
     },
     "execution_count": 291,
     "metadata": {},
     "output_type": "execute_result"
    }
   ],
   "source": [
    "'+'.join(list('hello'))"
   ]
  },
  {
   "cell_type": "code",
   "execution_count": 292,
   "metadata": {},
   "outputs": [
    {
     "data": {
      "text/plain": [
       "['H', 'a', 'p', 'p', 'y']"
      ]
     },
     "execution_count": 292,
     "metadata": {},
     "output_type": "execute_result"
    }
   ],
   "source": [
    "import builtins\n",
    "builtins.list('Happy')"
   ]
  },
  {
   "cell_type": "markdown",
   "metadata": {
    "slideshow": {
     "slide_type": "subslide"
    }
   },
   "source": [
    "## Lab: Jumble (Word Scrambling)\n",
    "* write a program which plays the jumble word game, i.e., it will present you with a scrambled word and you have to come up with the correctly spelled word\n",
    "  * you can use the __`random`__ module for this\n",
    "  * __`random.choice(container)`__ will return a random item from the container\n",
    "  * __`random.shuffle(container)`__ will shuffle a container so the items are scrambled\n",
    "  * you can't shuffle a string, so you'll need to put the characters into a list using the __`list()`__ function, then shuffle the list, then put the back into a string using __`join()`__"
   ]
  },
  {
   "cell_type": "code",
   "execution_count": 562,
   "metadata": {},
   "outputs": [
    {
     "name": "stdout",
     "output_type": "stream",
     "text": [
      "Randomized word is: \n",
      "aannab\n",
      "Please enter correct spelling: nanaba\n",
      "Incorrect! Please Try Again!\n",
      "Please enter correct spelling: bannaa\n",
      "Incorrect! Please Try Again!\n",
      "Please enter correct spelling: banaana\n",
      "Incorrect! Please Try Again!\n"
     ]
    },
    {
     "ename": "KeyboardInterrupt",
     "evalue": "",
     "output_type": "error",
     "traceback": [
      "\u001b[0;31m---------------------------------------------------------------------------\u001b[0m",
      "\u001b[0;31mKeyboardInterrupt\u001b[0m                         Traceback (most recent call last)",
      "\u001b[0;32m/usr/local/lib/python3.7/site-packages/ipykernel/kernelbase.py\u001b[0m in \u001b[0;36m_input_request\u001b[0;34m(self, prompt, ident, parent, password)\u001b[0m\n\u001b[1;32m    884\u001b[0m             \u001b[0;32mtry\u001b[0m\u001b[0;34m:\u001b[0m\u001b[0;34m\u001b[0m\u001b[0;34m\u001b[0m\u001b[0m\n\u001b[0;32m--> 885\u001b[0;31m                 \u001b[0mident\u001b[0m\u001b[0;34m,\u001b[0m \u001b[0mreply\u001b[0m \u001b[0;34m=\u001b[0m \u001b[0mself\u001b[0m\u001b[0;34m.\u001b[0m\u001b[0msession\u001b[0m\u001b[0;34m.\u001b[0m\u001b[0mrecv\u001b[0m\u001b[0;34m(\u001b[0m\u001b[0mself\u001b[0m\u001b[0;34m.\u001b[0m\u001b[0mstdin_socket\u001b[0m\u001b[0;34m,\u001b[0m \u001b[0;36m0\u001b[0m\u001b[0;34m)\u001b[0m\u001b[0;34m\u001b[0m\u001b[0;34m\u001b[0m\u001b[0m\n\u001b[0m\u001b[1;32m    886\u001b[0m             \u001b[0;32mexcept\u001b[0m \u001b[0mException\u001b[0m\u001b[0;34m:\u001b[0m\u001b[0;34m\u001b[0m\u001b[0;34m\u001b[0m\u001b[0m\n",
      "\u001b[0;32m/usr/local/lib/python3.7/site-packages/jupyter_client/session.py\u001b[0m in \u001b[0;36mrecv\u001b[0;34m(self, socket, mode, content, copy)\u001b[0m\n\u001b[1;32m    802\u001b[0m         \u001b[0;32mtry\u001b[0m\u001b[0;34m:\u001b[0m\u001b[0;34m\u001b[0m\u001b[0;34m\u001b[0m\u001b[0m\n\u001b[0;32m--> 803\u001b[0;31m             \u001b[0mmsg_list\u001b[0m \u001b[0;34m=\u001b[0m \u001b[0msocket\u001b[0m\u001b[0;34m.\u001b[0m\u001b[0mrecv_multipart\u001b[0m\u001b[0;34m(\u001b[0m\u001b[0mmode\u001b[0m\u001b[0;34m,\u001b[0m \u001b[0mcopy\u001b[0m\u001b[0;34m=\u001b[0m\u001b[0mcopy\u001b[0m\u001b[0;34m)\u001b[0m\u001b[0;34m\u001b[0m\u001b[0;34m\u001b[0m\u001b[0m\n\u001b[0m\u001b[1;32m    804\u001b[0m         \u001b[0;32mexcept\u001b[0m \u001b[0mzmq\u001b[0m\u001b[0;34m.\u001b[0m\u001b[0mZMQError\u001b[0m \u001b[0;32mas\u001b[0m \u001b[0me\u001b[0m\u001b[0;34m:\u001b[0m\u001b[0;34m\u001b[0m\u001b[0;34m\u001b[0m\u001b[0m\n",
      "\u001b[0;32m/usr/local/lib64/python3.7/site-packages/zmq/sugar/socket.py\u001b[0m in \u001b[0;36mrecv_multipart\u001b[0;34m(self, flags, copy, track)\u001b[0m\n\u001b[1;32m    469\u001b[0m         \"\"\"\n\u001b[0;32m--> 470\u001b[0;31m         \u001b[0mparts\u001b[0m \u001b[0;34m=\u001b[0m \u001b[0;34m[\u001b[0m\u001b[0mself\u001b[0m\u001b[0;34m.\u001b[0m\u001b[0mrecv\u001b[0m\u001b[0;34m(\u001b[0m\u001b[0mflags\u001b[0m\u001b[0;34m,\u001b[0m \u001b[0mcopy\u001b[0m\u001b[0;34m=\u001b[0m\u001b[0mcopy\u001b[0m\u001b[0;34m,\u001b[0m \u001b[0mtrack\u001b[0m\u001b[0;34m=\u001b[0m\u001b[0mtrack\u001b[0m\u001b[0;34m)\u001b[0m\u001b[0;34m]\u001b[0m\u001b[0;34m\u001b[0m\u001b[0;34m\u001b[0m\u001b[0m\n\u001b[0m\u001b[1;32m    471\u001b[0m         \u001b[0;31m# have first part already, only loop while more to receive\u001b[0m\u001b[0;34m\u001b[0m\u001b[0;34m\u001b[0m\u001b[0;34m\u001b[0m\u001b[0m\n",
      "\u001b[0;32mzmq/backend/cython/socket.pyx\u001b[0m in \u001b[0;36mzmq.backend.cython.socket.Socket.recv\u001b[0;34m()\u001b[0m\n",
      "\u001b[0;32mzmq/backend/cython/socket.pyx\u001b[0m in \u001b[0;36mzmq.backend.cython.socket.Socket.recv\u001b[0;34m()\u001b[0m\n",
      "\u001b[0;32mzmq/backend/cython/socket.pyx\u001b[0m in \u001b[0;36mzmq.backend.cython.socket._recv_copy\u001b[0;34m()\u001b[0m\n",
      "\u001b[0;32m/usr/local/lib64/python3.7/site-packages/zmq/backend/cython/checkrc.pxd\u001b[0m in \u001b[0;36mzmq.backend.cython.checkrc._check_rc\u001b[0;34m()\u001b[0m\n",
      "\u001b[0;31mKeyboardInterrupt\u001b[0m: ",
      "\nDuring handling of the above exception, another exception occurred:\n",
      "\u001b[0;31mKeyboardInterrupt\u001b[0m                         Traceback (most recent call last)",
      "\u001b[0;32m<ipython-input-562-b3f71e5d93bd>\u001b[0m in \u001b[0;36m<module>\u001b[0;34m\u001b[0m\n\u001b[1;32m     25\u001b[0m         \u001b[0;32mbreak\u001b[0m\u001b[0;34m\u001b[0m\u001b[0;34m\u001b[0m\u001b[0m\n\u001b[1;32m     26\u001b[0m \u001b[0;32mwhile\u001b[0m \u001b[0;32mTrue\u001b[0m\u001b[0;34m:\u001b[0m\u001b[0;34m\u001b[0m\u001b[0;34m\u001b[0m\u001b[0m\n\u001b[0;32m---> 27\u001b[0;31m     \u001b[0muser_input\u001b[0m\u001b[0;34m=\u001b[0m\u001b[0minput\u001b[0m\u001b[0;34m(\u001b[0m\u001b[0;34m\"Please enter correct spelling: \"\u001b[0m\u001b[0;34m)\u001b[0m\u001b[0;34m\u001b[0m\u001b[0;34m\u001b[0m\u001b[0m\n\u001b[0m\u001b[1;32m     28\u001b[0m     \u001b[0;32mif\u001b[0m\u001b[0;34m(\u001b[0m\u001b[0muser_input\u001b[0m\u001b[0;34m.\u001b[0m\u001b[0mlower\u001b[0m\u001b[0;34m(\u001b[0m\u001b[0;34m)\u001b[0m \u001b[0;34m!=\u001b[0m \u001b[0mran_word\u001b[0m\u001b[0;34m.\u001b[0m\u001b[0mlower\u001b[0m\u001b[0;34m(\u001b[0m\u001b[0;34m)\u001b[0m\u001b[0;34m)\u001b[0m\u001b[0;34m:\u001b[0m\u001b[0;34m\u001b[0m\u001b[0;34m\u001b[0m\u001b[0m\n\u001b[1;32m     29\u001b[0m         \u001b[0mprint\u001b[0m\u001b[0;34m(\u001b[0m\u001b[0;34m\"Incorrect! Please Try Again!\"\u001b[0m\u001b[0;34m)\u001b[0m\u001b[0;34m\u001b[0m\u001b[0;34m\u001b[0m\u001b[0m\n",
      "\u001b[0;32m/usr/local/lib/python3.7/site-packages/ipykernel/kernelbase.py\u001b[0m in \u001b[0;36mraw_input\u001b[0;34m(self, prompt)\u001b[0m\n\u001b[1;32m    858\u001b[0m             \u001b[0mself\u001b[0m\u001b[0;34m.\u001b[0m\u001b[0m_parent_ident\u001b[0m\u001b[0;34m,\u001b[0m\u001b[0;34m\u001b[0m\u001b[0;34m\u001b[0m\u001b[0m\n\u001b[1;32m    859\u001b[0m             \u001b[0mself\u001b[0m\u001b[0;34m.\u001b[0m\u001b[0m_parent_header\u001b[0m\u001b[0;34m,\u001b[0m\u001b[0;34m\u001b[0m\u001b[0;34m\u001b[0m\u001b[0m\n\u001b[0;32m--> 860\u001b[0;31m             \u001b[0mpassword\u001b[0m\u001b[0;34m=\u001b[0m\u001b[0;32mFalse\u001b[0m\u001b[0;34m,\u001b[0m\u001b[0;34m\u001b[0m\u001b[0;34m\u001b[0m\u001b[0m\n\u001b[0m\u001b[1;32m    861\u001b[0m         )\n\u001b[1;32m    862\u001b[0m \u001b[0;34m\u001b[0m\u001b[0m\n",
      "\u001b[0;32m/usr/local/lib/python3.7/site-packages/ipykernel/kernelbase.py\u001b[0m in \u001b[0;36m_input_request\u001b[0;34m(self, prompt, ident, parent, password)\u001b[0m\n\u001b[1;32m    888\u001b[0m             \u001b[0;32mexcept\u001b[0m \u001b[0mKeyboardInterrupt\u001b[0m\u001b[0;34m:\u001b[0m\u001b[0;34m\u001b[0m\u001b[0;34m\u001b[0m\u001b[0m\n\u001b[1;32m    889\u001b[0m                 \u001b[0;31m# re-raise KeyboardInterrupt, to truncate traceback\u001b[0m\u001b[0;34m\u001b[0m\u001b[0;34m\u001b[0m\u001b[0;34m\u001b[0m\u001b[0m\n\u001b[0;32m--> 890\u001b[0;31m                 \u001b[0;32mraise\u001b[0m \u001b[0mKeyboardInterrupt\u001b[0m\u001b[0;34m\u001b[0m\u001b[0;34m\u001b[0m\u001b[0m\n\u001b[0m\u001b[1;32m    891\u001b[0m             \u001b[0;32melse\u001b[0m\u001b[0;34m:\u001b[0m\u001b[0;34m\u001b[0m\u001b[0;34m\u001b[0m\u001b[0m\n\u001b[1;32m    892\u001b[0m                 \u001b[0;32mbreak\u001b[0m\u001b[0;34m\u001b[0m\u001b[0;34m\u001b[0m\u001b[0m\n",
      "\u001b[0;31mKeyboardInterrupt\u001b[0m: "
     ]
    }
   ],
   "source": [
    "import random\n",
    "line='-'*40\n",
    "#container=['one','two','three']\n",
    "container=['apple','banana','orange','lemon','pineapple','tangerine','watermelon','blueberry','cherry']\n",
    "ran_word=random.choice(container)\n",
    "#print(f\"Random Word is: {ran_word}\")\n",
    "#print(type(ran_word))\n",
    "\n",
    "while True:\n",
    "    ran_list=list(ran_word)\n",
    "    #print(type(ran_list))\n",
    "    #print(ran_list)\n",
    "    \n",
    "    random.shuffle(ran_list)\n",
    "    #print(ran_list)\n",
    "    ran_join=''.join(ran_list)\n",
    "    print(f\"Randomized word is: \\n{ran_join}\")\n",
    "    \n",
    "    if(ran_join == ran_word):\n",
    "        print('Word is NOT scrambled')\n",
    "        print(line)\n",
    "    \n",
    "    if(ran_join != ran_word):\n",
    "        #print('Word is scrambled')\n",
    "        break\n",
    "while True:\n",
    "    user_input=input(\"Please enter correct spelling: \")\n",
    "    if(user_input.lower() != ran_word.lower()):\n",
    "        print(\"Incorrect! Please Try Again!\")\n",
    "    else:\n",
    "        print(f\"Correct! The Word is: {ran_word.title()}\")\n",
    "        break\n",
    "print('Thank You for Playing!')"
   ]
  },
  {
   "cell_type": "code",
   "execution_count": 563,
   "metadata": {},
   "outputs": [
    {
     "name": "stdout",
     "output_type": "stream",
     "text": [
      "--------------------Round 1--------------------\n",
      "Randomized Word is: \n",
      "TAIGNREEN\n",
      "Please enter the correct spelling: \n",
      "tangerien\n",
      "\n",
      "xxINCORRECTxx\n",
      " Try Again!\n",
      "Please enter the correct spelling: \n",
      "tangerine\n",
      "\n",
      "**CORRECT**\n",
      "The Word is: Tangerine\n",
      "\n",
      "Would you like to play another round? \n",
      "Yes[y] or No[n], then Enter: \n",
      "y\n",
      "--------------------Round 2--------------------\n",
      "Randomized Word is: \n",
      "LPPAE\n",
      "Please enter the correct spelling: \n",
      "apple\n",
      "\n",
      "**CORRECT**\n",
      "The Word is: Apple\n",
      "\n",
      "Would you like to play another round? \n",
      "Yes[y] or No[n], then Enter: \n",
      "y\n",
      "--------------------Round 3--------------------\n",
      "Randomized Word is: \n",
      "LMNTEWORAE\n",
      "Please enter the correct spelling: \n",
      "watermelon\n",
      "\n",
      "**CORRECT**\n",
      "The Word is: Watermelon\n",
      "\n",
      "Would you like to play another round? \n",
      "Yes[y] or No[n], then Enter: \n",
      "y\n",
      "--------------------Round 4--------------------\n",
      "Randomized Word is: \n",
      "TAGEERINN\n",
      "Please enter the correct spelling: \n",
      "tangerine\n",
      "\n",
      "**CORRECT**\n",
      "The Word is: Tangerine\n",
      "\n",
      "Would you like to play another round? \n",
      "Yes[y] or No[n], then Enter: \n",
      "y\n",
      "--------------------Round 5--------------------\n",
      "Randomized Word is: \n",
      "REYHRC\n",
      "Please enter the correct spelling: \n",
      "cherry\n",
      "\n",
      "**CORRECT**\n",
      "The Word is: Cherry\n",
      "\n",
      "Would you like to play another round? \n",
      "Yes[y] or No[n], then Enter: \n",
      "y\n",
      "--------------------Round 6--------------------\n",
      "Randomized Word is: \n",
      "BNAANA\n",
      "Please enter the correct spelling: \n",
      "banana\n",
      "\n",
      "**CORRECT**\n",
      "The Word is: Banana\n",
      "\n",
      "Would you like to play another round? \n",
      "Yes[y] or No[n], then Enter: \n",
      "n\n",
      "-------------------- End of Game --------------------\n",
      "You Completed 6 Rounds!\n",
      "Thanks for Playing!\n"
     ]
    }
   ],
   "source": [
    "#Jumble + Continue Playing\n",
    "import random\n",
    "line='-'*20\n",
    "game_round=1\n",
    "while True:\n",
    "    print(f\"{line}Round {game_round}{line}\")\n",
    "    container=['apple','banana','orange','lemon','pineapple','tangerine','watermelon','blueberry','cherry']\n",
    "    ran_word=random.choice(container)\n",
    "    \n",
    "    while True:\n",
    "        ran_list=list(ran_word)\n",
    "        random.shuffle(ran_list)\n",
    "        ran_join=''.join(ran_list)\n",
    "        print(f\"Randomized Word is: \\n{ran_join.upper()}\")\n",
    "\n",
    "        if(ran_join == ran_word):\n",
    "            print('Word is NOT scrambled')\n",
    "            print(line)\n",
    "\n",
    "        else:\n",
    "            break\n",
    "    \n",
    "    while True:\n",
    "        user_input=input(\"Please enter the correct spelling: \\n\")\n",
    "        if(user_input.lower() != ran_word.lower()):\n",
    "            print(\"\\nxxINCORRECTxx\\n Try Again!\")\n",
    "        else:\n",
    "            print(f\"\\n**CORRECT**\\nThe Word is: {ran_word.title()}\")\n",
    "            break\n",
    "    \n",
    "    play_again=input(\"\\nWould you like to play another round? \\nYes[y] or No[n], then Enter: \\n\")\n",
    "    if((play_again == 'n') or (play_again !='n' and play_again !='y')):\n",
    "        print(f\"{line} End of Game {line}\")\n",
    "        break\n",
    "    else:\n",
    "        game_round+=1\n",
    "print(f\"You Completed {game_round} Rounds!\")\n",
    "print('Thanks for Playing!')"
   ]
  },
  {
   "cell_type": "code",
   "execution_count": 560,
   "metadata": {},
   "outputs": [
    {
     "name": "stdout",
     "output_type": "stream",
     "text": [
      "--------------------Round 1--------------------\n",
      "Randomized Word is: \n",
      "ENATGIENR\n",
      "Please enter the correct spelling: \n",
      "tangerine\n",
      "\n",
      "**CORRECT**\n",
      "The Word is: Tangerine\n",
      "\n",
      "Would you like to play another round? \n",
      "Yes[y] or No[n], then Enter: \n",
      "y\n",
      "You Completed 2 Rounds!\n",
      "Thanks for Playing!\n"
     ]
    }
   ],
   "source": [
    "#Jumble + Continue Playing + 3 Guesses\n",
    "import random\n",
    "line='-'*20\n",
    "game_round=1\n",
    "guess_wrong=0\n",
    "while True:\n",
    "    print(f\"{line}Round {game_round}{line}\")\n",
    "    container=['apple','banana','orange','lemon','pineapple','tangerine','watermelon','blueberry','cherry']\n",
    "    ran_word=random.choice(container)\n",
    "    \n",
    "    while True:\n",
    "        ran_list=list(ran_word)\n",
    "        random.shuffle(ran_list)\n",
    "        ran_join=''.join(ran_list)\n",
    "        print(f\"Randomized Word is: \\n{ran_join.upper()}\")\n",
    "\n",
    "        if(ran_join == ran_word):\n",
    "            print('Word is NOT scrambled')\n",
    "            print(line)\n",
    "\n",
    "        if(ran_join != ran_word):\n",
    "            break\n",
    "    \n",
    "    while True:\n",
    "        user_input=input(\"Please enter the correct spelling: \\n\")\n",
    "        if(user_input.lower() != ran_word.lower()):\n",
    "            guess_wrong+=1\n",
    "            print(\"\\nxxINCORRECTxx\\n Try Again!\")\n",
    "        else:\n",
    "            print(f\"\\n**CORRECT**\\nThe Word is: {ran_word.title()}\")\n",
    "            play_again=input(\"\\nWould you like to play another round? \\nYes[y] or No[n], then Enter: \\n\")\n",
    "            if((play_again == 'n') or (play_again !='n' and play_again !='y')):\n",
    "                print(f\"{line} End of Game {line}\")\n",
    "                break\n",
    "            else:\n",
    "                game_round+=1\n",
    "            break\n",
    "        if guess_wrong==3:\n",
    "            print('Game Over! 3 Wrong Guesses!')\n",
    "            break\n",
    "    break\n",
    "print(f\"You Completed {game_round} Rounds!\")\n",
    "print('Thanks for Playing!')"
   ]
  },
  {
   "cell_type": "markdown",
   "metadata": {},
   "source": [
    "## Let's make this more fun\n",
    "## A quick peek at File I/O"
   ]
  },
  {
   "cell_type": "code",
   "execution_count": 366,
   "metadata": {},
   "outputs": [
    {
     "name": "stdout",
     "output_type": "stream",
     "text": [
      "208 wordlist.txt\r\n"
     ]
    }
   ],
   "source": [
    "!wc -l wordlist.txt"
   ]
  },
  {
   "cell_type": "code",
   "execution_count": null,
   "metadata": {},
   "outputs": [],
   "source": [
    "words = []\n",
    "file = open('wordlist.txt')\n",
    "type(file)\n",
    "words = list(file)\n",
    "#for line in file:\n",
    "#    words.append(line.strip())\n",
    "print(words)\n",
    "file.close()\n",
    "\n",
    "with open('wordlist.txt') as file:\n",
    "    words = list(file)"
   ]
  },
  {
   "cell_type": "markdown",
   "metadata": {
    "slideshow": {
     "slide_type": "subslide"
    }
   },
   "source": [
    "## Removing Items from a List\n",
    "* __`remove()`__ will remove an item by value\n",
    "* __`pop()`__ will remove an item by index (and return the item)\n",
    "* as is the case with the add functions, we call them as __`listname.remove(item)`__ and __`listname.pop(index)`__"
   ]
  },
  {
   "cell_type": "code",
   "execution_count": null,
   "metadata": {},
   "outputs": [],
   "source": [
    "list_of_fruits = ['banana', 'apple', 'lemon', 'pear', 'fig',\n",
    "                  'mango','raspberry', 'lemon']\n",
    "print(list_of_fruits.pop(-3))\n",
    "list_of_fruits"
   ]
  },
  {
   "cell_type": "code",
   "execution_count": null,
   "metadata": {},
   "outputs": [],
   "source": [
    "# Given what we know so far, remove ALL lemons from the list\n",
    "print(list_of_fruits.count('lemon'))\n",
    "\n",
    "while 'lemon' in list_of_fruits:\n",
    "    list_of_fruits.remove('lemon')\n",
    "print(list_of_fruits)\n",
    "list_of_fruits.remove('lemon')"
   ]
  },
  {
   "cell_type": "code",
   "execution_count": null,
   "metadata": {},
   "outputs": [],
   "source": [
    "# Take the remaining items and pop each item off until empty\n",
    "while len(list_of_fruits) > 0:\n",
    "    print('popping', list_of_fruits.pop(0))\n",
    "    print(list_of_fruits)"
   ]
  },
  {
   "cell_type": "markdown",
   "metadata": {
    "slideshow": {
     "slide_type": "subslide"
    }
   },
   "source": [
    "## Sorting a List\n",
    "* lists have a __`sort()`__ function\n",
    "* sorting is performed alphabetically or numerically by default\n",
    "* you can choose to sort in reverse (descending) order"
   ]
  },
  {
   "cell_type": "code",
   "execution_count": 564,
   "metadata": {},
   "outputs": [
    {
     "name": "stdout",
     "output_type": "stream",
     "text": [
      "['banana', 'apple', 'lemon', 'pear', 'fig', 'mango', 'lemon']\n",
      "['apple', 'banana', 'fig', 'lemon', 'lemon', 'mango', 'pear']\n",
      "['pear', 'mango', 'lemon', 'lemon', 'fig', 'banana', 'apple']\n"
     ]
    }
   ],
   "source": [
    "list_of_fruits = ['banana', 'apple', 'lemon', 'pear', 'fig', \n",
    "                  'mango', 'lemon']\n",
    "print(list_of_fruits)\n",
    "list_of_fruits.sort()\n",
    "print(list_of_fruits)\n",
    "list_of_fruits.sort(reverse=True)\n",
    "print(list_of_fruits)"
   ]
  },
  {
   "cell_type": "code",
   "execution_count": null,
   "metadata": {},
   "outputs": [],
   "source": [
    "sorted_list = sorted(list_of_fruits)\n",
    "print(sorted_list)\n",
    "print(list_of_fruits)"
   ]
  },
  {
   "cell_type": "code",
   "execution_count": null,
   "metadata": {},
   "outputs": [],
   "source": [
    "list_of_fruits.sort(key=len)\n",
    "print(list_of_fruits)"
   ]
  },
  {
   "cell_type": "markdown",
   "metadata": {
    "slideshow": {
     "slide_type": "subslide"
    }
   },
   "source": [
    "## Lab: List Management/Sorting\n",
    "* write a program to read in words\n",
    "* if the word begins with a vowel, put it in \"vowel\" list, otherwise put it in the \"consonant\" list\n",
    "* when the user types \"quit\", stop and print out the sorted list of words that begin with vowels, and the sorted list of words that begin with consonants"
   ]
  },
  {
   "cell_type": "code",
   "execution_count": 596,
   "metadata": {},
   "outputs": [
    {
     "name": "stdout",
     "output_type": "stream",
     "text": [
      "Enter a word:\n",
      "super\n",
      "Enter a word:\n",
      "dumb\n",
      "Enter a word:\n",
      "fantastic\n",
      "Enter a word:\n",
      "awesome\n",
      "Enter a word:\n",
      "wicked\n",
      "Enter a word:\n",
      "vivacious\n",
      "Enter a word:\n",
      "electric\n",
      "Enter a word:\n",
      "quit\n",
      "['awesome', 'electric']\n",
      "['dumb', 'fantastic', 'super', 'vivacious', 'wicked']\n"
     ]
    }
   ],
   "source": [
    "vowels=[]\n",
    "cons=[]\n",
    "vowels_in='a','e','i','o','u','y'\n",
    "#print(vowels_in)\n",
    "\n",
    "while True:\n",
    "    user_input=input(\"Enter a word:\\n\")\n",
    "    if(user_input == 'quit'):\n",
    "        break\n",
    "    if user_input.startswith(vowels_in):\n",
    "        vowels.append(user_input)\n",
    "    else:\n",
    "        cons.append(user_input)\n",
    "print(sorted(vowels))\n",
    "print(sorted(cons))\n",
    "\n",
    "        "
   ]
  },
  {
   "cell_type": "code",
   "execution_count": 601,
   "metadata": {},
   "outputs": [
    {
     "name": "stdout",
     "output_type": "stream",
     "text": [
      "Enter a word: welcome\n",
      "Enter a word: awesome\n",
      "Enter a word: fun\n",
      "Enter a word: wicked\n",
      "Enter a word: vivacios\n",
      "Enter a word: terrifying\n",
      "Enter a word: super\n",
      "Enter a word: quick\n",
      "Enter a word: best\n",
      "Enter a word: quit\n",
      "THESE ARE VOWELS\n",
      " ['awesome']\n",
      "THESE ARE CONSONANTS\n",
      " ['best', 'fun', 'quick', 'super', 'terrifying', 'vivacios', 'welcome', 'wicked']\n"
     ]
    }
   ],
   "source": [
    "consonant_list = []\n",
    "vowel_list = []\n",
    "while True:    \n",
    "    word = input(\"Enter a word: \")\n",
    "    if word == 'quit':\n",
    "        break\n",
    "    if word[0] in 'aeiouyAEIOUY':\n",
    "        word = word.strip()\n",
    "        vowel_list.append(word)\n",
    "    else:\n",
    "        word = word.strip()\n",
    "        consonant_list.append(word)\n",
    "print(\"THESE ARE VOWELS\\n\",sorted(vowel_list))\n",
    "print(\"THESE ARE CONSONANTS\\n\",sorted(consonant_list))\n"
   ]
  },
  {
   "cell_type": "markdown",
   "metadata": {
    "slideshow": {
     "slide_type": "subslide"
    }
   },
   "source": [
    "## Dictionaries\n",
    "* a Python _dictionary_ is an unordered collection of key-value pairs\n",
    "* instead of using integers as indices, dictionaries use a key, which is often a string\n",
    "* a dictionary maps a key to a value–give it the key as an index, and it will return the value\n",
    "* indeed they are called _maps_ in some languages"
   ]
  },
  {
   "cell_type": "code",
   "execution_count": null,
   "metadata": {},
   "outputs": [],
   "source": []
  },
  {
   "cell_type": "code",
   "execution_count": 644,
   "metadata": {},
   "outputs": [
    {
     "data": {
      "text/plain": [
       "(dict, {'tall': 12, 'grande': 16})"
      ]
     },
     "execution_count": 644,
     "metadata": {},
     "output_type": "execute_result"
    }
   ],
   "source": [
    "# creating a dictionary and initializing it\n",
    "cups = { 'tall': 12, 'grande': 16 }\n",
    "type(cups), cups"
   ]
  },
  {
   "cell_type": "code",
   "execution_count": 645,
   "metadata": {},
   "outputs": [
    {
     "name": "stdout",
     "output_type": "stream",
     "text": [
      "A tall cup contains 12 ounces\n"
     ]
    }
   ],
   "source": [
    "print('A tall cup contains', cups['tall'], 'ounces')"
   ]
  },
  {
   "cell_type": "code",
   "execution_count": 646,
   "metadata": {},
   "outputs": [
    {
     "ename": "KeyError",
     "evalue": "0",
     "output_type": "error",
     "traceback": [
      "\u001b[0;31m---------------------------------------------------------------------------\u001b[0m",
      "\u001b[0;31mKeyError\u001b[0m                                  Traceback (most recent call last)",
      "\u001b[0;32m<ipython-input-646-960072945a43>\u001b[0m in \u001b[0;36m<module>\u001b[0;34m\u001b[0m\n\u001b[0;32m----> 1\u001b[0;31m \u001b[0mcups\u001b[0m\u001b[0;34m[\u001b[0m\u001b[0;36m0\u001b[0m\u001b[0;34m]\u001b[0m\u001b[0;34m\u001b[0m\u001b[0;34m\u001b[0m\u001b[0m\n\u001b[0m",
      "\u001b[0;31mKeyError\u001b[0m: 0"
     ]
    }
   ],
   "source": [
    "cups[0]"
   ]
  },
  {
   "cell_type": "code",
   "execution_count": 647,
   "metadata": {},
   "outputs": [
    {
     "name": "stdout",
     "output_type": "stream",
     "text": [
      "16\n"
     ]
    }
   ],
   "source": [
    "if 'grande' in cups: # only looks at keys\n",
    "    print(cups['grande'])"
   ]
  },
  {
   "cell_type": "code",
   "execution_count": 648,
   "metadata": {},
   "outputs": [
    {
     "name": "stdout",
     "output_type": "stream",
     "text": [
      "tall 12\n",
      "grande 16\n"
     ]
    }
   ],
   "source": [
    "for thing in cups:\n",
    "    print(thing, cups[thing])"
   ]
  },
  {
   "cell_type": "code",
   "execution_count": 649,
   "metadata": {},
   "outputs": [
    {
     "name": "stdout",
     "output_type": "stream",
     "text": [
      "12\n",
      "16\n"
     ]
    }
   ],
   "source": [
    "for v in cups.values():\n",
    "    print(v)"
   ]
  },
  {
   "cell_type": "code",
   "execution_count": 650,
   "metadata": {},
   "outputs": [
    {
     "name": "stdout",
     "output_type": "stream",
     "text": [
      "tall -> 12\n",
      "grande -> 16\n",
      "dict_items([('tall', 12), ('grande', 16)])\n"
     ]
    }
   ],
   "source": [
    "for key, value in cups.items():\n",
    "    print(key, '->', value)\n",
    "    \n",
    "print(cups.items())"
   ]
  },
  {
   "cell_type": "code",
   "execution_count": null,
   "metadata": {
    "slideshow": {
     "slide_type": "subslide"
    }
   },
   "outputs": [],
   "source": [
    "# How about a dictionary to translate English into Spanish\n",
    "english_to_spanish = { \n",
    "    'hello': 'hola', \n",
    "    'one': 'uno', \n",
    "    'please': 'por favor', \n",
    "    'coffee': 'café' \n",
    "}\n",
    "for word in \"hello one coffee please\".split():\n",
    "    print(english_to_spanish[word], end=' ')\n",
    "print()"
   ]
  },
  {
   "cell_type": "code",
   "execution_count": null,
   "metadata": {
    "slideshow": {
     "slide_type": "subslide"
    }
   },
   "outputs": [],
   "source": [
    "english_to_spanish['corn'] = 'maize'\n",
    "print(english_to_spanish)\n",
    "english_to_spanish['table'] = 'mesa'\n",
    "print(english_to_spanish)\n",
    "english_to_spanish['flour'] = 'arina'\n",
    "print(english_to_spanish)"
   ]
  },
  {
   "cell_type": "markdown",
   "metadata": {
    "slideshow": {
     "slide_type": "subslide"
    }
   },
   "source": [
    "## Lab: Roman Numerals\n",
    "* write a program that converts Roman numerals to Arabic numerals\n",
    "* use a dictionary where the keys are Roman numerals and the values are Arabic numerals\n",
    "* __`M = 1000, D = 500, C = 100, L = 50, X = 10, V = 5, I = 1`__\n",
    "* for example, __`MDCLXVI`__ would be __`1000 + 500 + 100 + 50 + 10 + 5 + 1 = 1666`__\n",
    "* once you get that working, think about this additional wrinkle:\n",
    "  * if a smaller value precedes a larger value, then the correct thing to do is to subtract the smaller value from the larger value\n",
    "  * e.g., __`IX = 10 - 1 = 9`__\n",
    "  * e.g., __`MCM = 1000 + (1000 - 100) = 1900`__"
   ]
  },
  {
   "cell_type": "code",
   "execution_count": 729,
   "metadata": {},
   "outputs": [
    {
     "name": "stdout",
     "output_type": "stream",
     "text": [
      "Please enter Roman Numerals: MCD\n",
      "1000\n",
      "[]\n",
      "100\n",
      "[1000]\n",
      "1000 is greater than 100\n",
      "500\n",
      "[1000, 100]\n",
      "100 is less than 500\n",
      "new roman value is 400\n",
      "The Roman Numeral value is [1000, 100, 500]\n",
      "The Final Numeral is 1500\n"
     ]
    }
   ],
   "source": [
    "numerals_dict={'M':1000,'D':500,'C':100,'L':50,'X':10,'V':5,'I':1}\n",
    "#print(numerals_dict)\n",
    "\n",
    "user_input=input(\"Please enter Roman Numerals: \")\n",
    "user_list=list(user_input)\n",
    "value_list=[]\n",
    "add_list=0\n",
    "#print(user_list)\n",
    "#for rom_num in user_list:\n",
    "#    print(rom_num)\n",
    "    \n",
    "#for i in numerals_dict:\n",
    "#    print(i)\n",
    "\n",
    "for i in user_list:\n",
    "    if i in numerals_dict:\n",
    "        rom_value=numerals_dict[i]\n",
    "        print(rom_value)\n",
    "        print(value_list)\n",
    "        if len(value_list) == 0:\n",
    "            value_list += {rom_value}\n",
    "            add_list += int(rom_value)\n",
    "        elif value_list[-1] >= rom_value:\n",
    "            print(f\"{value_list[-1]} is greater than {rom_value}\")\n",
    "            value_list+= {rom_value}\n",
    "            #add_list+=int(rom_value)\n",
    "        else:\n",
    "            print(f\"{value_list[-1]} is less than {rom_value}\")\n",
    "            new_romvalue=rom_value - value_list[-1]\n",
    "            print(f\"new roman value is {new_romvalue}\")\n",
    "            value_list+={rom_value}\n",
    "            add_list+=int(new_romvalue)\n",
    "            #print(f\"new list: {value_list[-1]}\")\n",
    "            #print(f\"new value: {rom_value}\")\n",
    "            #print(f\"last entry in new list: {value_list.pop(-1)}\")\n",
    "            #value_list[-1] < rom_value\n",
    "\n",
    "print(f\"The Roman Numeral value is {value_list}\")\n",
    "print(f\"The Final Numeral is {add_list}\")"
   ]
  },
  {
   "cell_type": "markdown",
   "metadata": {
    "slideshow": {
     "slide_type": "subslide"
    }
   },
   "source": [
    "## Lab: Word Counting\n",
    "* write a program to read lines of text entered by the user\n",
    "* split the lines into words, and count the occurrences of each word using a dictionary\n",
    "* if the word is in dictionary (use the __`in`__ operator), increment its count\n",
    "* if the word is NOT in the dictionary, set its count to 1\n",
    "* stop when the user enters 'quit', and print out the words and their counts\n",
    "* BONUS:  Read lines of text from a file instead.  Don't forget to handle puncuation!\n",
    "* EXTRA BONUS: Output your dictionary in order from most to least common words"
   ]
  },
  {
   "cell_type": "code",
   "execution_count": null,
   "metadata": {},
   "outputs": [],
   "source": []
  },
  {
   "cell_type": "markdown",
   "metadata": {
    "slideshow": {
     "slide_type": "subslide"
    }
   },
   "source": [
    "## Deleting from a __`dict`__\n",
    "* __`pop(key)`__ will remove the corresponding key/value pair from the __`dict`__\n",
    "* __`clear()`__ will remove ALL entries"
   ]
  },
  {
   "cell_type": "code",
   "execution_count": null,
   "metadata": {},
   "outputs": [],
   "source": [
    "cups.pop('not there')"
   ]
  },
  {
   "cell_type": "code",
   "execution_count": null,
   "metadata": {},
   "outputs": [],
   "source": [
    "if 'grande' in cups:\n",
    "    cups.pop('grande')\n",
    "cups"
   ]
  },
  {
   "cell_type": "code",
   "execution_count": null,
   "metadata": {},
   "outputs": [],
   "source": [
    "cups.clear()\n",
    "cups"
   ]
  },
  {
   "cell_type": "markdown",
   "metadata": {
    "slideshow": {
     "slide_type": "slide"
    }
   },
   "source": [
    "# Defining Our Own Functions"
   ]
  },
  {
   "cell_type": "markdown",
   "metadata": {
    "slideshow": {
     "slide_type": "subslide"
    }
   },
   "source": [
    "## What is a Function (Redux)?\n",
    "* a _function_ is a named, self-contained snippet of code which performs a specific task\n",
    "* functions are sometimes called procedures, subprograms, or methods\n",
    "* functions can accept some data as input, and can return some data as output\n",
    "* the input, which is optional, is called _parameters_ or _arguments_\n",
    "* the output, which is also optional, is called the _return value_\n",
    "* we use the __`def`__ keyword to define a function\n",
    "* the body of the function is indented\n",
    "* syntax\n",
    "\n",
    "<pre>\n",
    "    <b>\n",
    "    def funcname(arg1, arg2, ...):\n",
    "        statement(s)\n",
    "    </b>\n",
    "</pre>"
   ]
  },
  {
   "cell_type": "code",
   "execution_count": null,
   "metadata": {},
   "outputs": [],
   "source": [
    "# Here is a function which takes no input (parameters) and has\n",
    "# no return value. The things that are printed by the function\n",
    "# are not considered a return value.\n",
    "\n",
    "def print_header():\n",
    "    print('-' * 63)\n",
    "    print('   RESTRICTED ACCESS' * 3)\n",
    "    print('-' * 63)\n",
    "    \n",
    "print_header()\n",
    "print('you should not be reading this')\n",
    "print_header()"
   ]
  },
  {
   "cell_type": "code",
   "execution_count": null,
   "metadata": {},
   "outputs": [],
   "source": [
    "# This function takes a single argument (or parameter),\n",
    "# but it does not return anything.\n",
    "def pretty_print(message):\n",
    "    print_header()\n",
    "    print(message)\n",
    "    print_header()"
   ]
  },
  {
   "cell_type": "code",
   "execution_count": null,
   "metadata": {},
   "outputs": [],
   "source": [
    "pretty_print('          DO NOT LOOK AT THIS SCREEN!')"
   ]
  },
  {
   "cell_type": "code",
   "execution_count": null,
   "metadata": {},
   "outputs": [],
   "source": [
    "# This function takes two arguments\n",
    "def print_sum(num1, num2):\n",
    "    print('the sum of', num1, 'and', num2, 'is', num1 + num2)\n",
    "\n",
    "print_sum(32, 48)"
   ]
  },
  {
   "cell_type": "markdown",
   "metadata": {
    "slideshow": {
     "slide_type": "subslide"
    }
   },
   "source": [
    "## Lab: Mastermind/Cows and Bulls Game\n",
    "* your program should generate a 4-digit \"secret\" number, where the digits are  all different\n",
    "* the player tries to guess the number  who gives the number of matches. If the matching digits are in their right positions, they are \"bulls\", if in different positions, they are \"cows\". "
   ]
  },
  {
   "cell_type": "code",
   "execution_count": null,
   "metadata": {},
   "outputs": [],
   "source": [
    "def secret_number():\n",
    "    import random\n",
    "    numbers_set=(1,2,3,4,5,6,7,8,9,0)\n",
    "    \n",
    "    print(numbers_set)\n",
    "secret_number()"
   ]
  },
  {
   "cell_type": "markdown",
   "metadata": {
    "slideshow": {
     "slide_type": "subslide"
    }
   },
   "source": [
    "## Scope\n",
    "* the _scope_ of a variable is the part of the program in which the variable can be accessed\n",
    "* so far we have been creating variables in \"global scope\", which means they can be accessed anywhere in the program, i.e., _globally_\n",
    "* when we create a variable inside a function it can be accessed from that point until the end of the function–once the function exits, the variable is no longer accessible"
   ]
  },
  {
   "cell_type": "code",
   "execution_count": null,
   "metadata": {
    "scrolled": true
   },
   "outputs": [],
   "source": [
    "def function_scope():\n",
    "    print('in function function_scope()')\n",
    "    print('creating the variable \"funcvar\"')\n",
    "    funcvar = 'this variable was created inside the function'\n",
    "    print('funcvar =', funcvar)\n",
    "    print('leaving function function_scope()')\n",
    "    \n",
    "function_scope()\n",
    "print(funcvar)\n"
   ]
  },
  {
   "cell_type": "markdown",
   "metadata": {},
   "source": [
    "## Next Week - No Class\n",
    "### But Remember: Practice makes perfect!\n",
    "### Contact:\n",
    "JR Rickerson  \n",
    "jrrickerson@redrivetstudios.com\n",
    "## Suggested practice activities:\n",
    "* Python Challenge - http://www.pythonchallenge.com\n",
    "* Project Euler - https://projecteuler.net/\n",
    "* Rosetta Code - http://rosettacode.org/wiki/Rosetta_Code\n",
    "* Code Katas\n",
    "    * http://codekata.com/\n",
    "    * https://github.com/gamontal/awesome-katas\n",
    "    * https://github.com/pyatl/jam-sessions\n",
    "    * https://www.codewars.com/\n",
    "* Coding Dojo tool - http://cyber-dojo.org\n",
    "* Choose a simple game (old board games) and implement it!"
   ]
  },
  {
   "cell_type": "markdown",
   "metadata": {
    "slideshow": {
     "slide_type": "subslide"
    }
   },
   "source": [
    "## The __`return`__ Statement\n",
    "* if a function wants to return a value to its caller, it must use the __`return`__ statement\n",
    "* whatever value you put in the __`return`__ statement is returned "
   ]
  },
  {
   "cell_type": "code",
   "execution_count": null,
   "metadata": {
    "scrolled": true
   },
   "outputs": [],
   "source": [
    "def adder(x, y):\n",
    "    return x + y\n",
    "\n",
    "adder(21, 34)\n",
    "\n",
    "def add_and_sub(x, y):\n",
    "    return x + y, x - y\n",
    "\n",
    "summation, diff = add_and_sub(21, 34)\n",
    "print(summation)\n",
    "print(diff)\n"
   ]
  },
  {
   "cell_type": "code",
   "execution_count": null,
   "metadata": {},
   "outputs": [],
   "source": [
    "var = adder(-3, 1.0) # adder() returns the sum of its two arguments\n",
    "print(var)"
   ]
  },
  {
   "cell_type": "code",
   "execution_count": null,
   "metadata": {},
   "outputs": [],
   "source": [
    "def add_ints(x, y):\n",
    "    # if x is int\n",
    "    if type(x) != int or type(y) != int:\n",
    "        result = None\n",
    "    else:\n",
    "        result = x + y\n",
    "    return result"
   ]
  },
  {
   "cell_type": "code",
   "execution_count": null,
   "metadata": {},
   "outputs": [],
   "source": [
    "def wrapper_function(message, x, y):\n",
    "    print(message, 'started')\n",
    "    def add_stuff(x, y):\n",
    "        return x + y\n",
    "    print(message, 'done')\n",
    "    return add_stuff(x, y)\n",
    "\n",
    "wrapper_function('Message', 1, 2)\n",
    "add_stuff(1, 2)"
   ]
  },
  {
   "cell_type": "markdown",
   "metadata": {
    "slideshow": {
     "slide_type": "subslide"
    }
   },
   "source": [
    "## Boolean Functions\n",
    "* functions can return any datatype, but let's consider the class of functions that return a Boolean value, i.e., __`True`__ or __`False`__ \n",
    "* these functions can be used to make our code more readable, especially if we name them __`is_...()`__"
   ]
  },
  {
   "cell_type": "code",
   "execution_count": null,
   "metadata": {},
   "outputs": [],
   "source": [
    "def is_even(number):\n",
    "    return number % 2 == 0\n",
    "\n",
    "num = int(input('Enter a number: '))\n",
    "if is_even(num):\n",
    "    print(num, 'is an even number')\n",
    "else:\n",
    "    print(num, 'is an ODD number')"
   ]
  },
  {
   "cell_type": "markdown",
   "metadata": {
    "slideshow": {
     "slide_type": "subslide"
    }
   },
   "source": [
    "## Functions Can Call Other Functions\n",
    "* ideally, when we write code to solve a problem, we break the problem down into subproblems, and then break those down further into subproblems, etc.\n",
    "* when the problems are \"small enough,\" we write functions to solve them\n",
    "* a good rule of thumb is that if your explanation of what a function does contains the word _and_, then it needs to be broken down even further\n",
    "* better to have too many functions than too few\n",
    "<pre>\n",
    "    <b>\n",
    "    def task1(arg1, arg2, ...):\n",
    "        statement(s)\n",
    "        task2(...)\n",
    "        statement(s)\n",
    "        \n",
    "    def task2(arg1, arg2, ...):\n",
    "        statement(s)\n",
    "        task3(...)\n",
    "        statement(s)\n",
    "        \n",
    "     def task3(arg1, arg2, ...):\n",
    "        statement(s)\n",
    "        \n",
    "     # Now call the first function\n",
    "     task1(...)   \n",
    "    </b>\n",
    "</pre>\n",
    "* in order for one function to call another, the function being called has to have been seen by the interpreter or Python won't know what it is\n",
    "* but as written above, it's fine, because the Python intepreter sees all three functions before the call of __`task1()`__ occurs"
   ]
  },
  {
   "cell_type": "markdown",
   "metadata": {
    "slideshow": {
     "slide_type": "subslide"
    }
   },
   "source": [
    "## Lab: Functions\n",
    "* write __max3__, a function to find the maximum of three values (first create a function that finds the maximum of two values and have __max3__ call it)\n",
    "* write a function to sum all of the numbers in a list\n",
    "* write a function which accepts a list as its argument and returns a new list with all of the duplicates removed (e.g., __remove_dupes([3, 1, 2, 3, 1, 3, 3, 4, 1])__ would return [3, 1, 2, 4])\n",
    "* write a function to check whether its string argument is a pangram (i.e., it contains all of the letters of the alphabet)\n",
    "* write a Boolean function which accepts a string argument and indicates whether it is a palindrome (i.e., it reads the same backwards and forwards–e.g., \"radar\")\n",
    " * once you get that, try to make it work even if the string contains spaces, e.g., \"Ten animals I slam in a net\"\n",
    " * try to use slices if you didn't already"
   ]
  },
  {
   "cell_type": "code",
   "execution_count": null,
   "metadata": {},
   "outputs": [],
   "source": []
  },
  {
   "cell_type": "markdown",
   "metadata": {
    "slideshow": {
     "slide_type": "slide"
    }
   },
   "source": [
    "\n",
    "# Modules"
   ]
  },
  {
   "cell_type": "markdown",
   "metadata": {
    "slideshow": {
     "slide_type": "subslide"
    }
   },
   "source": [
    "## What is a Module?\n",
    "* a module is file containing one or more related functions\n",
    "* we can _import_ the module into our program, giving us access to those functions\n",
    "* the __`string`__ module used to give us access to functions which manipulate strings, but  these functions have been built in to Python strings for a while\n",
    "  * the real value of the string module is the constants it defines\n",
    "* the __`math`__ module gives us access to math functions such as __`sqrt`__, __`sin`__, and __`factorial`__\n",
    "* the random module gives us access to functions that generate random numbers\n"
   ]
  },
  {
   "cell_type": "code",
   "execution_count": null,
   "metadata": {},
   "outputs": [],
   "source": [
    "import string\n",
    "print(string.digits)\n",
    "print(string.punctuation)\n",
    "print(string.ascii_uppercase)\n",
    "print(string.ascii_letters)"
   ]
  },
  {
   "cell_type": "code",
   "execution_count": null,
   "metadata": {},
   "outputs": [],
   "source": [
    "import math\n",
    "print(math.sqrt(2))\n",
    "print(math.sin(1.5708)) # 90 degrees in radians\n",
    "print(math.factorial(52))"
   ]
  },
  {
   "cell_type": "code",
   "execution_count": null,
   "metadata": {},
   "outputs": [],
   "source": [
    "import random\n",
    "# random.choice() is a really useful function which randomly chooses an item from a sequence\n",
    "list_of_fruits = 'apple pear banana guava'.split()\n",
    "print(random.choice(list_of_fruits))\n",
    "# random.randint(a, b) returns a random integer between a and b (inclusive)\n",
    "print(random.randint(1, 100))"
   ]
  },
  {
   "cell_type": "code",
   "execution_count": null,
   "metadata": {},
   "outputs": [],
   "source": [
    "dir(random)\n",
    "random.__file__"
   ]
  },
  {
   "cell_type": "code",
   "execution_count": null,
   "metadata": {},
   "outputs": [],
   "source": [
    "from random import choice as ch\n",
    "\n",
    "ch([1, 2, 3])"
   ]
  },
  {
   "cell_type": "markdown",
   "metadata": {},
   "source": [
    "# Object-Oriented Programming/Classes\n",
    "### A very brief introduction"
   ]
  },
  {
   "cell_type": "markdown",
   "metadata": {},
   "source": [
    "## Classes\n",
    "* so far we've looked at built-in types; now we're going to define a new type\n",
    "* class = programmer-defined type"
   ]
  },
  {
   "cell_type": "code",
   "execution_count": null,
   "metadata": {},
   "outputs": [],
   "source": [
    "# simplest class/object we can create\n",
    "class Person(object):\n",
    "    pass"
   ]
  },
  {
   "cell_type": "code",
   "execution_count": null,
   "metadata": {},
   "outputs": [],
   "source": [
    "# to instantiate, or create and object, you call the class as\n",
    "# if were a function\n",
    "somebody = Person()"
   ]
  },
  {
   "cell_type": "code",
   "execution_count": null,
   "metadata": {},
   "outputs": [],
   "source": [
    "somebody # somebody is an instance of the Person class"
   ]
  },
  {
   "cell_type": "code",
   "execution_count": null,
   "metadata": {},
   "outputs": [],
   "source": [
    "type(somebody), type(3)"
   ]
  },
  {
   "cell_type": "code",
   "execution_count": null,
   "metadata": {},
   "outputs": [],
   "source": [
    "type(Person), type(int)"
   ]
  },
  {
   "cell_type": "code",
   "execution_count": null,
   "metadata": {},
   "outputs": [],
   "source": [
    "class BankAccount(object):\n",
    "    # __init__ is like a constructor\n",
    "    # it is used to initialize the object that is created\n",
    "    def __init__(self, name, initial_balance):\n",
    "        self.name = name\n",
    "        self.balance = initial_balance\n",
    "        print('in __init__')\n",
    "        \n",
    "    # all methods (with some exceptions) must have self as a first parameter...\n",
    "    # ...even though you don't pass self when you call the method (Python does)\n",
    "    def deposit(self, amount):\n",
    "        if amount > 0:\n",
    "            self.balance += amount\n",
    "            return self.balance\n",
    "        else:\n",
    "            print(\"can't deposit nonpositive amount!\")\n",
    "\n",
    "    def withdraw(self, amount):\n",
    "        if amount > 0:\n",
    "            if amount <= self.balance:\n",
    "                self.balance -= amount\n",
    "                return self.balance\n",
    "            else:\n",
    "                print(\"can't withdraw\", amount, \"or you would be overdrawn!\")\n",
    "        else:\n",
    "            print(\"can't withdraw nonpositive amount!\")\n"
   ]
  },
  {
   "cell_type": "code",
   "execution_count": null,
   "metadata": {},
   "outputs": [],
   "source": [
    "account1 = BankAccount('Marc Benioff', 345)"
   ]
  },
  {
   "cell_type": "code",
   "execution_count": null,
   "metadata": {},
   "outputs": [],
   "source": [
    "# what is account1?\n",
    "account1"
   ]
  },
  {
   "cell_type": "code",
   "execution_count": null,
   "metadata": {},
   "outputs": [],
   "source": [
    "# we can inspect attributes of our newly-created object\n",
    "print(account1.name, account1.balance)"
   ]
  },
  {
   "cell_type": "code",
   "execution_count": null,
   "metadata": {},
   "outputs": [],
   "source": [
    "# we can deposit money\n",
    "account1.deposit(25)"
   ]
  },
  {
   "cell_type": "code",
   "execution_count": null,
   "metadata": {},
   "outputs": [],
   "source": [
    "# we can withdraw money\n",
    "account1.withdraw(5)"
   ]
  },
  {
   "cell_type": "markdown",
   "metadata": {},
   "source": [
    "## Classes: \"magic\" methods\n",
    "* __\\_\\_init\\_\\___ is a special initialization method that is invoked when the object is instantiated\n",
    "* __\\_\\_str\\_\\___ returns a string representation of the object (i.e., for humans), maps to str() function\n",
    "* __\\_\\_repr\\_\\___ returns unambiguous representation of the object which could be fed to Python interpreter to recreate the object, maps to repr() function"
   ]
  },
  {
   "cell_type": "code",
   "execution_count": null,
   "metadata": {},
   "outputs": [],
   "source": [
    "import datetime\n",
    "today = datetime.datetime.now()\n",
    "str(today), repr(today)"
   ]
  },
  {
   "cell_type": "markdown",
   "metadata": {},
   "source": [
    "## Let's add __\\_\\_`repr`\\_\\_ and __\\_\\_`str`\\_\\_ to our class"
   ]
  },
  {
   "cell_type": "code",
   "execution_count": null,
   "metadata": {},
   "outputs": [],
   "source": [
    "class BankAccount(object):\n",
    "    def __init__(self, name, initial_balance):\n",
    "        self.name = name\n",
    "        self.balance = initial_balance\n",
    "\n",
    "    '''representation of the object \"feedable\" to Python\n",
    "    interpreter'''\n",
    "    def __repr__(self):\n",
    "        return self.__class__.__name__ + '(' + repr(self.name) \\\n",
    "               + ', ' + repr(self.balance) + ')'\n",
    "\n",
    "    '''string representation of object, for humans\n",
    "    __repr__ is used if __str__ does not exist'''\n",
    "    def __str__(self):\n",
    "        print('in the __str__() function')\n",
    "        return self.name + ' ' + str(self.balance)\n",
    "\n",
    "    def __add__(self, other):\n",
    "        return BankAccount(self.name + ' ' + other.name,\n",
    "                    self.balance + other.balance)\n",
    "    \n",
    "    def deposit(self, amount):\n",
    "        if amount > 0:\n",
    "            self.balance += amount\n",
    "            return self.balance\n",
    "        else:\n",
    "            print(\"can't deposit nonpositive amount!\")\n",
    "\n",
    "    def withdraw(self, amount):\n",
    "        if amount > 0:\n",
    "            if amount <= self.balance:\n",
    "                self.balance -= amount\n",
    "                return self.balance\n",
    "            else:\n",
    "                print(\"can't withdraw\", amount, \"or you would be overdrawn!\")\n",
    "        else:\n",
    "            print(\"can't withdraw nonpositive amount!\")"
   ]
  },
  {
   "cell_type": "code",
   "execution_count": null,
   "metadata": {},
   "outputs": [],
   "source": [
    "account2 = BankAccount('Gutzon Borglum', 100.0)\n",
    "account3 = BankAccount('Marie Curie', 200.0)"
   ]
  },
  {
   "cell_type": "code",
   "execution_count": null,
   "metadata": {},
   "outputs": [],
   "source": [
    "# try repr()\n",
    "repr(account2)\n",
    "account3 = BankAccount('Gutzon Borglum', 100.0)\n",
    "print(account3)"
   ]
  },
  {
   "cell_type": "code",
   "execution_count": null,
   "metadata": {},
   "outputs": [],
   "source": [
    "dir(account3)\n",
    "print(account3.__dict__)"
   ]
  },
  {
   "cell_type": "code",
   "execution_count": null,
   "metadata": {},
   "outputs": [],
   "source": [
    "# try str()\n",
    "account2.__str__()"
   ]
  },
  {
   "cell_type": "markdown",
   "metadata": {},
   "source": [
    "## Other \"magic\" methods\n",
    "* __\\_\\_add\\_\\___ = add two objects together\n",
    "* __\\_\\_eq\\_\\___ = implementation of ==\n",
    "* __\\_\\_ne\\_\\___ = implementation of !=\n",
    "* __\\_\\_len\\_\\___ = implementation of len() method\n",
    "* many others!"
   ]
  },
  {
   "cell_type": "code",
   "execution_count": null,
   "metadata": {},
   "outputs": [],
   "source": []
  }
 ],
 "metadata": {
  "celltoolbar": "Slideshow",
  "kernelspec": {
   "display_name": "Python 3",
   "language": "python",
   "name": "python3"
  },
  "language_info": {
   "codemirror_mode": {
    "name": "ipython",
    "version": 3
   },
   "file_extension": ".py",
   "mimetype": "text/x-python",
   "name": "python",
   "nbconvert_exporter": "python",
   "pygments_lexer": "ipython3",
   "version": "3.7.10"
  }
 },
 "nbformat": 4,
 "nbformat_minor": 1
}
